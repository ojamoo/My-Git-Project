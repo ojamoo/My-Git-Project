{
  "nbformat": 4,
  "nbformat_minor": 0,
  "metadata": {
    "colab": {
      "name": "StageC_HamoyeQuiz.ipynb",
      "provenance": [],
      "collapsed_sections": [],
      "authorship_tag": "ABX9TyPXIRzLXoo8Ffhn1kJlXmrY",
      "include_colab_link": true
    },
    "kernelspec": {
      "name": "python3",
      "display_name": "Python 3"
    },
    "language_info": {
      "name": "python"
    }
  },
  "cells": [
    {
      "cell_type": "markdown",
      "metadata": {
        "id": "view-in-github",
        "colab_type": "text"
      },
      "source": [
        "<a href=\"https://colab.research.google.com/github/ojamoo/My-Git-Project/blob/master/StageC_Hamoye.ipynb\" target=\"_parent\"><img src=\"https://colab.research.google.com/assets/colab-badge.svg\" alt=\"Open In Colab\"/></a>"
      ]
    },
    {
      "cell_type": "code",
      "metadata": {
        "id": "uWHWJbgS7VfW",
        "colab": {
          "base_uri": "https://localhost:8080/"
        },
        "outputId": "7d538e53-f192-4d38-c811-8b308f048112"
      },
      "source": [
        "import pandas as pd\n",
        "import numpy as np\n",
        "import sklearn.utils\n",
        "from sklearn.model_selection import train_test_split\n",
        "from sklearn.preprocessing import LabelEncoder\n",
        "import imblearn\n",
        "from sklearn.preprocessing import MinMaxScaler\n",
        "from sklearn.preprocessing import  StandardScaler\n",
        "from sklearn.linear_model import LogisticRegression\n",
        "from imblearn.over_sampling import SMOTE\n",
        "from sklearn.model_selection import cross_val_score\n",
        "from sklearn.metrics import recall_score,accuracy_score,precision_score,f1_score,confusion_matrix\n",
        "from sklearn.model_selection import KFold\n",
        "from sklearn.model_selection import  StratifiedKFold\n",
        "from sklearn.model_selection import LeaveOneOut\n",
        "from sklearn.tree import DecisionTreeClassifier"
      ],
      "execution_count": 1,
      "outputs": [
        {
          "output_type": "stream",
          "name": "stderr",
          "text": [
            "/usr/local/lib/python3.7/dist-packages/sklearn/externals/six.py:31: FutureWarning: The module is deprecated in version 0.21 and will be removed in version 0.23 since we've dropped support for Python 2.7. Please rely on the official version of six (https://pypi.org/project/six/).\n",
            "  \"(https://pypi.org/project/six/).\", FutureWarning)\n",
            "/usr/local/lib/python3.7/dist-packages/sklearn/utils/deprecation.py:144: FutureWarning: The sklearn.neighbors.base module is  deprecated in version 0.22 and will be removed in version 0.24. The corresponding classes / functions should instead be imported from sklearn.neighbors. Anything that cannot be imported from sklearn.neighbors is now part of the private API.\n",
            "  warnings.warn(message, FutureWarning)\n"
          ]
        }
      ]
    },
    {
      "cell_type": "code",
      "metadata": {
        "id": "qp8d1ZqJ7fT6"
      },
      "source": [
        "df=pd.read_csv('https://archive.ics.uci.edu/ml/machine-learning-databases/00471/Data_for_UCI_named.csv')"
      ],
      "execution_count": 2,
      "outputs": []
    },
    {
      "cell_type": "code",
      "metadata": {
        "colab": {
          "base_uri": "https://localhost:8080/"
        },
        "id": "_iJLeMDR_iLH",
        "outputId": "cb42ca3a-28d8-427d-87f3-86cb4812cbbd"
      },
      "source": [
        "print(df)"
      ],
      "execution_count": 3,
      "outputs": [
        {
          "output_type": "stream",
          "name": "stdout",
          "text": [
            "          tau1      tau2      tau3  ...        g4      stab     stabf\n",
            "0     2.959060  3.079885  8.381025  ...  0.958034  0.055347  unstable\n",
            "1     9.304097  4.902524  3.047541  ...  0.781760 -0.005957    stable\n",
            "2     8.971707  8.848428  3.046479  ...  0.109853  0.003471  unstable\n",
            "3     0.716415  7.669600  4.486641  ...  0.362718  0.028871  unstable\n",
            "4     3.134112  7.608772  4.943759  ...  0.820923  0.049860  unstable\n",
            "...        ...       ...       ...  ...       ...       ...       ...\n",
            "9995  2.930406  9.487627  2.376523  ...  0.608385  0.023892  unstable\n",
            "9996  3.392299  1.274827  2.954947  ...  0.366120 -0.025803    stable\n",
            "9997  2.364034  2.842030  8.776391  ...  0.145984 -0.031810    stable\n",
            "9998  9.631511  3.994398  2.757071  ...  0.818391  0.037789  unstable\n",
            "9999  6.530527  6.781790  4.349695  ...  0.942631  0.045263  unstable\n",
            "\n",
            "[10000 rows x 14 columns]\n"
          ]
        }
      ]
    },
    {
      "cell_type": "code",
      "metadata": {
        "colab": {
          "base_uri": "https://localhost:8080/"
        },
        "id": "YuPOxMz4_kWh",
        "outputId": "e1c2a20b-d555-405c-a156-f559925dda6b"
      },
      "source": [
        "df.columns"
      ],
      "execution_count": 4,
      "outputs": [
        {
          "output_type": "execute_result",
          "data": {
            "text/plain": [
              "Index(['tau1', 'tau2', 'tau3', 'tau4', 'p1', 'p2', 'p3', 'p4', 'g1', 'g2',\n",
              "       'g3', 'g4', 'stab', 'stabf'],\n",
              "      dtype='object')"
            ]
          },
          "metadata": {},
          "execution_count": 4
        }
      ]
    },
    {
      "cell_type": "code",
      "metadata": {
        "colab": {
          "base_uri": "https://localhost:8080/"
        },
        "id": "VEP0pnWKBHnm",
        "outputId": "b4ece988-985c-4318-c863-00dcb0e5b7c6"
      },
      "source": [
        "df.isna().sum()"
      ],
      "execution_count": 5,
      "outputs": [
        {
          "output_type": "execute_result",
          "data": {
            "text/plain": [
              "tau1     0\n",
              "tau2     0\n",
              "tau3     0\n",
              "tau4     0\n",
              "p1       0\n",
              "p2       0\n",
              "p3       0\n",
              "p4       0\n",
              "g1       0\n",
              "g2       0\n",
              "g3       0\n",
              "g4       0\n",
              "stab     0\n",
              "stabf    0\n",
              "dtype: int64"
            ]
          },
          "metadata": {},
          "execution_count": 5
        }
      ]
    },
    {
      "cell_type": "code",
      "metadata": {
        "id": "tobAhj5aBlnP"
      },
      "source": [
        "#dependent variables\n",
        "y=df[['stab','stabf']]"
      ],
      "execution_count": 6,
      "outputs": []
    },
    {
      "cell_type": "code",
      "metadata": {
        "colab": {
          "base_uri": "https://localhost:8080/"
        },
        "id": "HqtPa2MO3KuT",
        "outputId": "628d58e9-1e2f-4046-c0a4-3eec0384e471"
      },
      "source": [
        "print(y)"
      ],
      "execution_count": 7,
      "outputs": [
        {
          "output_type": "stream",
          "name": "stdout",
          "text": [
            "          stab     stabf\n",
            "0     0.055347  unstable\n",
            "1    -0.005957    stable\n",
            "2     0.003471  unstable\n",
            "3     0.028871  unstable\n",
            "4     0.049860  unstable\n",
            "...        ...       ...\n",
            "9995  0.023892  unstable\n",
            "9996 -0.025803    stable\n",
            "9997 -0.031810    stable\n",
            "9998  0.037789  unstable\n",
            "9999  0.045263  unstable\n",
            "\n",
            "[10000 rows x 2 columns]\n"
          ]
        }
      ]
    },
    {
      "cell_type": "code",
      "metadata": {
        "id": "FeCSTBvM2B0r"
      },
      "source": [
        "#predictive features\n",
        "x=df.drop(columns=['stab','stabf'])"
      ],
      "execution_count": 8,
      "outputs": []
    },
    {
      "cell_type": "code",
      "metadata": {
        "colab": {
          "base_uri": "https://localhost:8080/"
        },
        "id": "6kDOdLA-ubjN",
        "outputId": "ef9c2094-0f75-4808-e80e-b1ac926c7f59"
      },
      "source": [
        "print(x)"
      ],
      "execution_count": 9,
      "outputs": [
        {
          "output_type": "stream",
          "name": "stdout",
          "text": [
            "          tau1      tau2      tau3  ...        g2        g3        g4\n",
            "0     2.959060  3.079885  8.381025  ...  0.859578  0.887445  0.958034\n",
            "1     9.304097  4.902524  3.047541  ...  0.862414  0.562139  0.781760\n",
            "2     8.971707  8.848428  3.046479  ...  0.766689  0.839444  0.109853\n",
            "3     0.716415  7.669600  4.486641  ...  0.976744  0.929381  0.362718\n",
            "4     3.134112  7.608772  4.943759  ...  0.455450  0.656947  0.820923\n",
            "...        ...       ...       ...  ...       ...       ...       ...\n",
            "9995  2.930406  9.487627  2.376523  ...  0.779642  0.813512  0.608385\n",
            "9996  3.392299  1.274827  2.954947  ...  0.567242  0.285880  0.366120\n",
            "9997  2.364034  2.842030  8.776391  ...  0.986505  0.149286  0.145984\n",
            "9998  9.631511  3.994398  2.757071  ...  0.587558  0.889118  0.818391\n",
            "9999  6.530527  6.781790  4.349695  ...  0.505441  0.378761  0.942631\n",
            "\n",
            "[10000 rows x 12 columns]\n"
          ]
        }
      ]
    },
    {
      "cell_type": "code",
      "metadata": {
        "id": "7kynl_iNtoNP"
      },
      "source": [
        "#using stabf (with a binary classification) as the sole dependent variable\n",
        "y=y.drop(columns=['stab'])"
      ],
      "execution_count": 10,
      "outputs": []
    },
    {
      "cell_type": "code",
      "metadata": {
        "colab": {
          "base_uri": "https://localhost:8080/"
        },
        "id": "Wuf9vg9-5eff",
        "outputId": "4b004f93-6930-43d9-b988-9442f4e9243c"
      },
      "source": [
        "print(y)"
      ],
      "execution_count": 11,
      "outputs": [
        {
          "output_type": "stream",
          "name": "stdout",
          "text": [
            "         stabf\n",
            "0     unstable\n",
            "1       stable\n",
            "2     unstable\n",
            "3     unstable\n",
            "4     unstable\n",
            "...        ...\n",
            "9995  unstable\n",
            "9996    stable\n",
            "9997    stable\n",
            "9998  unstable\n",
            "9999  unstable\n",
            "\n",
            "[10000 rows x 1 columns]\n"
          ]
        }
      ]
    },
    {
      "cell_type": "code",
      "metadata": {
        "colab": {
          "base_uri": "https://localhost:8080/"
        },
        "id": "yFVqdLD4ts1n",
        "outputId": "21c42ae3-17cb-4574-cc09-41fd2076b831"
      },
      "source": [
        "#checking distribution of target variable\n",
        "y['stabf'].value_counts()"
      ],
      "execution_count": 12,
      "outputs": [
        {
          "output_type": "execute_result",
          "data": {
            "text/plain": [
              "unstable    6380\n",
              "stable      3620\n",
              "Name: stabf, dtype: int64"
            ]
          },
          "metadata": {},
          "execution_count": 12
        }
      ]
    },
    {
      "cell_type": "code",
      "metadata": {
        "id": "UzIMeerbu3Qz"
      },
      "source": [
        "#splitting the data into training and testing dataset\n",
        "x_train,x_test,y_train,y_test=train_test_split(x,y,test_size=0.2,random_state=1)"
      ],
      "execution_count": 13,
      "outputs": []
    },
    {
      "cell_type": "code",
      "metadata": {
        "id": "Vvyir-fB5D01",
        "colab": {
          "base_uri": "https://localhost:8080/"
        },
        "outputId": "50b748a3-5539-4185-fbf9-13ba489db8bc"
      },
      "source": [
        "print(x_train)"
      ],
      "execution_count": 14,
      "outputs": [
        {
          "output_type": "stream",
          "name": "stdout",
          "text": [
            "          tau1      tau2      tau3  ...        g2        g3        g4\n",
            "2694  6.255995  2.542401  7.024714  ...  0.618403  0.685739  0.660088\n",
            "5140  5.070581  5.490253  8.075688  ...  0.097244  0.916955  0.129254\n",
            "2568  1.220072  8.804028  3.874283  ...  0.923594  0.238881  0.660156\n",
            "3671  7.498402  6.697603  8.798626  ...  0.899003  0.964752  0.600598\n",
            "7427  7.074006  1.337511  6.100756  ...  0.716082  0.836928  0.165162\n",
            "...        ...       ...       ...  ...       ...       ...       ...\n",
            "2895  9.504984  5.265415  2.029617  ...  0.611297  0.080008  0.350312\n",
            "7813  8.035818  4.632548  1.177810  ...  0.317770  0.726623  0.441620\n",
            "905   7.052560  3.264057  1.405949  ...  0.605566  0.100591  0.747320\n",
            "5192  5.085242  1.790031  2.486392  ...  0.418512  0.326253  0.982488\n",
            "235   1.205354  6.995045  5.930860  ...  0.202768  0.848373  0.739993\n",
            "\n",
            "[8000 rows x 12 columns]\n"
          ]
        }
      ]
    },
    {
      "cell_type": "code",
      "metadata": {
        "colab": {
          "base_uri": "https://localhost:8080/"
        },
        "id": "ecNjWDh16xAC",
        "outputId": "3cbe45b0-4395-4ee4-e074-25792366b16e"
      },
      "source": [
        "print(y_train)"
      ],
      "execution_count": 15,
      "outputs": [
        {
          "output_type": "stream",
          "name": "stdout",
          "text": [
            "         stabf\n",
            "2694  unstable\n",
            "5140  unstable\n",
            "2568  unstable\n",
            "3671  unstable\n",
            "7427  unstable\n",
            "...        ...\n",
            "2895    stable\n",
            "7813    stable\n",
            "905   unstable\n",
            "5192  unstable\n",
            "235     stable\n",
            "\n",
            "[8000 rows x 1 columns]\n"
          ]
        }
      ]
    },
    {
      "cell_type": "code",
      "metadata": {
        "colab": {
          "base_uri": "https://localhost:8080/"
        },
        "id": "50BlxpQ26z-3",
        "outputId": "f8e824cf-3176-412f-b5c3-8de71a9103ee"
      },
      "source": [
        "print(x_test)"
      ],
      "execution_count": 16,
      "outputs": [
        {
          "output_type": "stream",
          "name": "stdout",
          "text": [
            "          tau1      tau2      tau3  ...        g2        g3        g4\n",
            "9953  6.877876  4.113820  9.356768  ...  0.845536  0.112440  0.822562\n",
            "3850  5.802841  6.271371  4.731540  ...  0.416478  0.912846  0.861306\n",
            "4962  2.286998  4.385142  2.830232  ...  0.130186  0.703887  0.063811\n",
            "3886  5.019920  2.209962  6.266080  ...  0.065992  0.427349  0.814648\n",
            "5437  7.646145  9.187896  5.484219  ...  0.121611  0.787318  0.300314\n",
            "...        ...       ...       ...  ...       ...       ...       ...\n",
            "3919  8.320531  3.394352  1.468729  ...  0.493384  0.178907  0.173240\n",
            "162   2.290102  3.028512  8.071234  ...  0.770194  0.234290  0.225070\n",
            "7903  7.848945  0.684889  0.728223  ...  0.559799  0.682418  0.886902\n",
            "2242  2.173967  5.776797  4.597638  ...  0.743103  0.152161  0.305183\n",
            "2745  1.467618  9.389085  6.019740  ...  0.273217  0.526145  0.851163\n",
            "\n",
            "[2000 rows x 12 columns]\n"
          ]
        }
      ]
    },
    {
      "cell_type": "code",
      "metadata": {
        "colab": {
          "base_uri": "https://localhost:8080/"
        },
        "id": "4xdrC_tm632A",
        "outputId": "b4728c38-f421-4a2f-e3ab-b0de9b195501"
      },
      "source": [
        "print(y_test)"
      ],
      "execution_count": 17,
      "outputs": [
        {
          "output_type": "stream",
          "name": "stdout",
          "text": [
            "         stabf\n",
            "9953  unstable\n",
            "3850  unstable\n",
            "4962    stable\n",
            "3886    stable\n",
            "5437  unstable\n",
            "...        ...\n",
            "3919    stable\n",
            "162     stable\n",
            "7903    stable\n",
            "2242  unstable\n",
            "2745  unstable\n",
            "\n",
            "[2000 rows x 1 columns]\n"
          ]
        }
      ]
    },
    {
      "cell_type": "code",
      "metadata": {
        "id": "llBiFboz686V"
      },
      "source": [
        "#scaling with standard scaler\n",
        "scaler=StandardScaler()"
      ],
      "execution_count": 18,
      "outputs": []
    },
    {
      "cell_type": "code",
      "metadata": {
        "id": "iYTEkc1c7rR6"
      },
      "source": [
        "scaled_train_df=scaler.fit_transform(x_train)\n",
        "scaled_train_df=pd.DataFrame(scaled_train_df,columns=x_train.columns)"
      ],
      "execution_count": 19,
      "outputs": []
    },
    {
      "cell_type": "code",
      "metadata": {
        "colab": {
          "base_uri": "https://localhost:8080/"
        },
        "id": "8RT2hQN98mnE",
        "outputId": "172b350c-1203-4c3e-f9f1-7eea7a3ac999"
      },
      "source": [
        "print(scaled_train_df)"
      ],
      "execution_count": 20,
      "outputs": [
        {
          "output_type": "stream",
          "name": "stdout",
          "text": [
            "          tau1      tau2      tau3  ...        g2        g3        g4\n",
            "0     0.367327 -0.986042  0.650447  ...  0.339859  0.585568  0.492239\n",
            "1    -0.064659  0.089437  1.035079  ... -1.558488  1.429649 -1.443521\n",
            "2    -1.467850  1.298418 -0.502536  ...  1.451534 -1.045743  0.492489\n",
            "3     0.820081  0.529920  1.299657  ...  1.361958  1.604140  0.275303\n",
            "4     0.665424 -1.425627  0.312300  ...  0.695660  1.137504 -1.312575\n",
            "...        ...       ...       ...  ...       ...       ...       ...\n",
            "7995  1.551314  0.007408 -1.177640  ...  0.313976 -1.625728 -0.637401\n",
            "7996  1.015925 -0.223483 -1.489381  ... -0.755209  0.734821 -0.304433\n",
            "7997  0.657609 -0.722756 -1.405888  ...  0.293100 -1.550587  0.810344\n",
            "7998 -0.059316 -1.260532 -1.010471  ... -0.388255 -0.726781  1.667916\n",
            "7999 -1.473214  0.638438  0.250122  ... -1.174110  1.179282  0.783627\n",
            "\n",
            "[8000 rows x 12 columns]\n"
          ]
        }
      ]
    },
    {
      "cell_type": "code",
      "metadata": {
        "id": "dCI2wewe8rOI"
      },
      "source": [
        "scaled_test_df=scaler.fit_transform(x_test)\n",
        "scaled_test_df=pd.DataFrame(scaled_test_df,columns=x_test.columns)"
      ],
      "execution_count": 21,
      "outputs": []
    },
    {
      "cell_type": "code",
      "metadata": {
        "colab": {
          "base_uri": "https://localhost:8080/"
        },
        "id": "VDQmqdPX9Ai9",
        "outputId": "44f4aea2-be3e-49a3-aef6-fcc70cf414b8"
      },
      "source": [
        "print(scaled_test_df)"
      ],
      "execution_count": 22,
      "outputs": [
        {
          "output_type": "stream",
          "name": "stdout",
          "text": [
            "          tau1      tau2      tau3  ...        g2        g3        g4\n",
            "0     0.592163 -0.420565  1.472472  ...  1.175287 -1.492644  1.086291\n",
            "1     0.199183  0.364543 -0.190076  ... -0.395949  1.412703  1.227535\n",
            "2    -1.086035 -0.321834 -0.873505  ... -1.444370  0.654216 -1.679799\n",
            "3    -0.087014 -1.113357  0.361518  ... -1.679450 -0.349573  1.057439\n",
            "4     0.873004  1.425833  0.080476  ... -1.475773  0.957057 -0.817608\n",
            "...        ...       ...       ...  ...       ...       ...       ...\n",
            "1995  1.119526 -0.682371 -1.362900  ... -0.114316 -1.251379 -1.280864\n",
            "1996 -1.084900 -0.815496  1.010385  ...  0.899379 -1.050349 -1.091915\n",
            "1997  0.947138 -1.668313 -1.629077  ...  0.128899  0.576286  1.320848\n",
            "1998 -1.127354  0.184573 -0.238207  ...  0.800172 -1.348463 -0.799858\n",
            "1999 -1.385560  1.499043  0.272971  ... -0.920581  0.009039  1.190559\n",
            "\n",
            "[2000 rows x 12 columns]\n"
          ]
        }
      ]
    },
    {
      "cell_type": "code",
      "metadata": {
        "id": "s3lTgpeu9ERn"
      },
      "source": [
        "#Random Forest Classifier\n",
        "from sklearn.ensemble import RandomForestClassifier"
      ],
      "execution_count": 23,
      "outputs": []
    },
    {
      "cell_type": "code",
      "metadata": {
        "colab": {
          "base_uri": "https://localhost:8080/"
        },
        "id": "iL1jcJNQ-_Bo",
        "outputId": "4a76e9da-9319-4500-b80c-6b5e24168a0d"
      },
      "source": [
        "r_f_c=RandomForestClassifier(n_estimators=100)\n",
        "r_f_c.fit(scaled_train_df,y_train)"
      ],
      "execution_count": 24,
      "outputs": [
        {
          "output_type": "stream",
          "name": "stderr",
          "text": [
            "/usr/local/lib/python3.7/dist-packages/ipykernel_launcher.py:2: DataConversionWarning: A column-vector y was passed when a 1d array was expected. Please change the shape of y to (n_samples,), for example using ravel().\n",
            "  \n"
          ]
        },
        {
          "output_type": "execute_result",
          "data": {
            "text/plain": [
              "RandomForestClassifier(bootstrap=True, ccp_alpha=0.0, class_weight=None,\n",
              "                       criterion='gini', max_depth=None, max_features='auto',\n",
              "                       max_leaf_nodes=None, max_samples=None,\n",
              "                       min_impurity_decrease=0.0, min_impurity_split=None,\n",
              "                       min_samples_leaf=1, min_samples_split=2,\n",
              "                       min_weight_fraction_leaf=0.0, n_estimators=100,\n",
              "                       n_jobs=None, oob_score=False, random_state=None,\n",
              "                       verbose=0, warm_start=False)"
            ]
          },
          "metadata": {},
          "execution_count": 24
        }
      ]
    },
    {
      "cell_type": "code",
      "metadata": {
        "id": "SPp-9KfI_0n5"
      },
      "source": [
        "y_predict_rfc=r_f_c.predict(scaled_test_df)"
      ],
      "execution_count": 25,
      "outputs": []
    },
    {
      "cell_type": "code",
      "metadata": {
        "colab": {
          "base_uri": "https://localhost:8080/"
        },
        "id": "WQX91P7HAKSv",
        "outputId": "9a390185-ddea-4e5d-8cdc-895206d5358e"
      },
      "source": [
        "print(y_predict_rfc)"
      ],
      "execution_count": 26,
      "outputs": [
        {
          "output_type": "stream",
          "name": "stdout",
          "text": [
            "['unstable' 'unstable' 'stable' ... 'stable' 'unstable' 'unstable']\n"
          ]
        }
      ]
    },
    {
      "cell_type": "code",
      "metadata": {
        "id": "MVcFLaHBAmEJ"
      },
      "source": [
        "#Confusion Matrix for Random Forest Classifier\n",
        "cnf_mat=confusion_matrix(y_true=y_test,y_pred=y_predict_rfc,labels=['stable','unstable'])"
      ],
      "execution_count": 27,
      "outputs": []
    },
    {
      "cell_type": "code",
      "metadata": {
        "colab": {
          "base_uri": "https://localhost:8080/"
        },
        "id": "0J81NlKEBd6l",
        "outputId": "cc6b08f3-16aa-4e13-d240-e9b965eb1bd5"
      },
      "source": [
        "print(cnf_mat)"
      ],
      "execution_count": 28,
      "outputs": [
        {
          "output_type": "stream",
          "name": "stdout",
          "text": [
            "[[ 621   91]\n",
            " [  64 1224]]\n"
          ]
        }
      ]
    },
    {
      "cell_type": "code",
      "metadata": {
        "colab": {
          "base_uri": "https://localhost:8080/"
        },
        "id": "wh7y3t4KBh8d",
        "outputId": "76fb3b92-057e-426b-9976-0bcb5a27bf18"
      },
      "source": [
        "#Accuracy for Random Forest Classifier\n",
        "accuracy=accuracy_score(y_test,y_predict_rfc)\n",
        "print('Accuracy: {}'.format(round(accuracy,4)))"
      ],
      "execution_count": 29,
      "outputs": [
        {
          "output_type": "stream",
          "name": "stdout",
          "text": [
            "Accuracy: 0.9225\n"
          ]
        }
      ]
    },
    {
      "cell_type": "code",
      "metadata": {
        "id": "pz2HnnbADhqk"
      },
      "source": [
        "#Extra-Trees Classifier\n",
        "from sklearn.ensemble import ExtraTreesClassifier"
      ],
      "execution_count": 30,
      "outputs": []
    },
    {
      "cell_type": "code",
      "metadata": {
        "colab": {
          "base_uri": "https://localhost:8080/"
        },
        "id": "Z1uyxt68Dh7k",
        "outputId": "9bb20848-3fa6-4e74-cbf5-8b08a7a26d47"
      },
      "source": [
        "e_t_c=ExtraTreesClassifier(random_state=1)\n",
        "e_t_c.fit(scaled_train_df,y_train)"
      ],
      "execution_count": 31,
      "outputs": [
        {
          "output_type": "stream",
          "name": "stderr",
          "text": [
            "/usr/local/lib/python3.7/dist-packages/ipykernel_launcher.py:2: DataConversionWarning: A column-vector y was passed when a 1d array was expected. Please change the shape of y to (n_samples,), for example using ravel().\n",
            "  \n"
          ]
        },
        {
          "output_type": "execute_result",
          "data": {
            "text/plain": [
              "ExtraTreesClassifier(bootstrap=False, ccp_alpha=0.0, class_weight=None,\n",
              "                     criterion='gini', max_depth=None, max_features='auto',\n",
              "                     max_leaf_nodes=None, max_samples=None,\n",
              "                     min_impurity_decrease=0.0, min_impurity_split=None,\n",
              "                     min_samples_leaf=1, min_samples_split=2,\n",
              "                     min_weight_fraction_leaf=0.0, n_estimators=100,\n",
              "                     n_jobs=None, oob_score=False, random_state=1, verbose=0,\n",
              "                     warm_start=False)"
            ]
          },
          "metadata": {},
          "execution_count": 31
        }
      ]
    },
    {
      "cell_type": "code",
      "metadata": {
        "id": "KjfdADtYDiLe"
      },
      "source": [
        "y_predict_etc=e_t_c.predict(scaled_test_df)"
      ],
      "execution_count": 32,
      "outputs": []
    },
    {
      "cell_type": "code",
      "metadata": {
        "colab": {
          "base_uri": "https://localhost:8080/"
        },
        "id": "Q0hmCHLKDidW",
        "outputId": "414af6c7-0ca5-4135-e1ac-7b49db27caca"
      },
      "source": [
        "print(y_predict_etc)"
      ],
      "execution_count": 33,
      "outputs": [
        {
          "output_type": "stream",
          "name": "stdout",
          "text": [
            "['unstable' 'unstable' 'stable' ... 'stable' 'unstable' 'unstable']\n"
          ]
        }
      ]
    },
    {
      "cell_type": "code",
      "metadata": {
        "id": "izZd3GJnEagR"
      },
      "source": [
        "#Confusion Matrix for Extra-Trees Classifier\n",
        "cnf_mat_etc=confusion_matrix(y_true=y_test,y_pred=y_predict_etc,labels=['stable','unstable'])"
      ],
      "execution_count": 34,
      "outputs": []
    },
    {
      "cell_type": "code",
      "metadata": {
        "colab": {
          "base_uri": "https://localhost:8080/"
        },
        "id": "B4jJSBO4Eay7",
        "outputId": "90b29229-fd57-4c82-8315-fdbdd17c6aef"
      },
      "source": [
        "print(cnf_mat_etc)"
      ],
      "execution_count": 35,
      "outputs": [
        {
          "output_type": "stream",
          "name": "stdout",
          "text": [
            "[[ 602  110]\n",
            " [  38 1250]]\n"
          ]
        }
      ]
    },
    {
      "cell_type": "code",
      "metadata": {
        "colab": {
          "base_uri": "https://localhost:8080/"
        },
        "id": "8Ej_g_K0EbDk",
        "outputId": "b7ed9855-180e-487b-d559-f5c490b9bffc"
      },
      "source": [
        "#Accuracy for Extra-Trees Classifier\n",
        "accuracy=accuracy_score(y_test,y_predict_etc)\n",
        "print('Accuracy: {}'.format(round(accuracy,4)))"
      ],
      "execution_count": 36,
      "outputs": [
        {
          "output_type": "stream",
          "name": "stdout",
          "text": [
            "Accuracy: 0.926\n"
          ]
        }
      ]
    },
    {
      "cell_type": "code",
      "metadata": {
        "id": "RA2u171aCPrg"
      },
      "source": [
        "#XGBoost\n",
        "from xgboost import XGBClassifier"
      ],
      "execution_count": 37,
      "outputs": []
    },
    {
      "cell_type": "code",
      "metadata": {
        "id": "mQfMUii5DJmx"
      },
      "source": [
        "xgb=XGBClassifier(random_state=1)"
      ],
      "execution_count": 38,
      "outputs": []
    },
    {
      "cell_type": "code",
      "metadata": {
        "colab": {
          "base_uri": "https://localhost:8080/"
        },
        "id": "agKroOyvI8EP",
        "outputId": "9ac2d2d2-71f4-4e7f-b692-1ff08e108aa8"
      },
      "source": [
        "xgb.fit(scaled_train_df,y_train)"
      ],
      "execution_count": 39,
      "outputs": [
        {
          "output_type": "stream",
          "name": "stderr",
          "text": [
            "/usr/local/lib/python3.7/dist-packages/sklearn/preprocessing/_label.py:235: DataConversionWarning: A column-vector y was passed when a 1d array was expected. Please change the shape of y to (n_samples, ), for example using ravel().\n",
            "  y = column_or_1d(y, warn=True)\n",
            "/usr/local/lib/python3.7/dist-packages/sklearn/preprocessing/_label.py:268: DataConversionWarning: A column-vector y was passed when a 1d array was expected. Please change the shape of y to (n_samples, ), for example using ravel().\n",
            "  y = column_or_1d(y, warn=True)\n"
          ]
        },
        {
          "output_type": "execute_result",
          "data": {
            "text/plain": [
              "XGBClassifier(base_score=0.5, booster='gbtree', colsample_bylevel=1,\n",
              "              colsample_bynode=1, colsample_bytree=1, gamma=0,\n",
              "              learning_rate=0.1, max_delta_step=0, max_depth=3,\n",
              "              min_child_weight=1, missing=None, n_estimators=100, n_jobs=1,\n",
              "              nthread=None, objective='binary:logistic', random_state=1,\n",
              "              reg_alpha=0, reg_lambda=1, scale_pos_weight=1, seed=None,\n",
              "              silent=None, subsample=1, verbosity=1)"
            ]
          },
          "metadata": {},
          "execution_count": 39
        }
      ]
    },
    {
      "cell_type": "code",
      "metadata": {
        "id": "u1e5LSGzDZZc"
      },
      "source": [
        "y_predict_xgb=xgb.predict(scaled_test_df)"
      ],
      "execution_count": 40,
      "outputs": []
    },
    {
      "cell_type": "code",
      "metadata": {
        "colab": {
          "base_uri": "https://localhost:8080/"
        },
        "id": "foOi_4yNGI-R",
        "outputId": "5bdc0a33-fa37-49ed-f12b-b844826eb751"
      },
      "source": [
        "print(y_predict_xgb)"
      ],
      "execution_count": 41,
      "outputs": [
        {
          "output_type": "stream",
          "name": "stdout",
          "text": [
            "['unstable' 'unstable' 'stable' ... 'stable' 'unstable' 'unstable']\n"
          ]
        }
      ]
    },
    {
      "cell_type": "code",
      "metadata": {
        "id": "fJIDyX9gGL-B"
      },
      "source": [
        "#Confusion Matrix for XGBoost Classifier\n",
        "cnf_mat_xgb=confusion_matrix(y_true=y_test,y_pred=y_predict_xgb,labels=['stable','unstable'])"
      ],
      "execution_count": 42,
      "outputs": []
    },
    {
      "cell_type": "code",
      "metadata": {
        "colab": {
          "base_uri": "https://localhost:8080/"
        },
        "id": "xTcNaYo4G0hY",
        "outputId": "3cf5cdc7-baad-47e4-97de-b1ad2328fcae"
      },
      "source": [
        "print(cnf_mat_xgb)"
      ],
      "execution_count": 43,
      "outputs": [
        {
          "output_type": "stream",
          "name": "stdout",
          "text": [
            "[[ 599  113]\n",
            " [  49 1239]]\n"
          ]
        }
      ]
    },
    {
      "cell_type": "code",
      "metadata": {
        "colab": {
          "base_uri": "https://localhost:8080/"
        },
        "id": "nFhfbHpoG2sS",
        "outputId": "bda57782-96ab-4cb6-f02d-ad43b8cfd5da"
      },
      "source": [
        "#Accuracy for XGBoost Classifier\n",
        "accuracy=accuracy_score(y_test,y_predict_xgb)\n",
        "print('Accuracy: {}'.format(round(accuracy,4)))"
      ],
      "execution_count": 44,
      "outputs": [
        {
          "output_type": "stream",
          "name": "stdout",
          "text": [
            "Accuracy: 0.919\n"
          ]
        }
      ]
    },
    {
      "cell_type": "code",
      "metadata": {
        "id": "rYLQabwZHXeN"
      },
      "source": [
        "#Light Gradient Boosting Classifier\n",
        "import lightgbm as lgb"
      ],
      "execution_count": 45,
      "outputs": []
    },
    {
      "cell_type": "code",
      "metadata": {
        "colab": {
          "base_uri": "https://localhost:8080/"
        },
        "id": "JrQjr2X9egm9",
        "outputId": "6ee64339-2e25-4348-90db-24c27bb3ea75"
      },
      "source": [
        "lgb_c= lgb.LGBMClassifier(random_state=1)\n",
        "lgb_c.fit(scaled_train_df,y_train)"
      ],
      "execution_count": 46,
      "outputs": [
        {
          "output_type": "stream",
          "name": "stderr",
          "text": [
            "/usr/local/lib/python3.7/dist-packages/sklearn/preprocessing/_label.py:235: DataConversionWarning: A column-vector y was passed when a 1d array was expected. Please change the shape of y to (n_samples, ), for example using ravel().\n",
            "  y = column_or_1d(y, warn=True)\n",
            "/usr/local/lib/python3.7/dist-packages/sklearn/preprocessing/_label.py:268: DataConversionWarning: A column-vector y was passed when a 1d array was expected. Please change the shape of y to (n_samples, ), for example using ravel().\n",
            "  y = column_or_1d(y, warn=True)\n"
          ]
        },
        {
          "output_type": "execute_result",
          "data": {
            "text/plain": [
              "LGBMClassifier(boosting_type='gbdt', class_weight=None, colsample_bytree=1.0,\n",
              "               importance_type='split', learning_rate=0.1, max_depth=-1,\n",
              "               min_child_samples=20, min_child_weight=0.001, min_split_gain=0.0,\n",
              "               n_estimators=100, n_jobs=-1, num_leaves=31, objective=None,\n",
              "               random_state=1, reg_alpha=0.0, reg_lambda=0.0, silent=True,\n",
              "               subsample=1.0, subsample_for_bin=200000, subsample_freq=0)"
            ]
          },
          "metadata": {},
          "execution_count": 46
        }
      ]
    },
    {
      "cell_type": "code",
      "metadata": {
        "id": "j8Ybm7noe9RT"
      },
      "source": [
        "y_predict_lgb = lgb_c.predict(scaled_test_df)"
      ],
      "execution_count": 47,
      "outputs": []
    },
    {
      "cell_type": "code",
      "metadata": {
        "colab": {
          "base_uri": "https://localhost:8080/"
        },
        "id": "dF0bpeRKfJrz",
        "outputId": "fb4a168e-6eb7-4850-a07c-546f412dc5f7"
      },
      "source": [
        "print(y_predict_lgb)"
      ],
      "execution_count": 48,
      "outputs": [
        {
          "output_type": "stream",
          "name": "stdout",
          "text": [
            "['unstable' 'unstable' 'stable' ... 'stable' 'unstable' 'unstable']\n"
          ]
        }
      ]
    },
    {
      "cell_type": "code",
      "metadata": {
        "id": "hBALWf1GfMHr"
      },
      "source": [
        "#Confusion Matrix for Light Gradient Boosting Classifier\n",
        "cnf_mat_lgb=confusion_matrix(y_true=y_test,y_pred=y_predict_lgb,labels=['stable','unstable'])"
      ],
      "execution_count": 49,
      "outputs": []
    },
    {
      "cell_type": "code",
      "metadata": {
        "colab": {
          "base_uri": "https://localhost:8080/"
        },
        "id": "280pwgaQfipr",
        "outputId": "40fc3680-82b5-4bbd-bac8-62382cbc2303"
      },
      "source": [
        "print(cnf_mat_lgb)"
      ],
      "execution_count": 50,
      "outputs": [
        {
          "output_type": "stream",
          "name": "stdout",
          "text": [
            "[[ 635   77]\n",
            " [  52 1236]]\n"
          ]
        }
      ]
    },
    {
      "cell_type": "code",
      "metadata": {
        "colab": {
          "base_uri": "https://localhost:8080/"
        },
        "id": "HIYCnX_jfm2v",
        "outputId": "2f1953bf-8a7b-4323-e42d-76a8ee9512bd"
      },
      "source": [
        "#Accuracy for Light Gradient Boosting Classifier\n",
        "accuracy=accuracy_score(y_test,y_predict_lgb)\n",
        "print('Accuracy: {}'.format(round(accuracy,4)))"
      ],
      "execution_count": 51,
      "outputs": [
        {
          "output_type": "stream",
          "name": "stdout",
          "text": [
            "Accuracy: 0.9355\n"
          ]
        }
      ]
    },
    {
      "cell_type": "code",
      "metadata": {
        "id": "EkdARPadhKUk"
      },
      "source": [
        "#Parameters\n",
        "n_estimators=[50,100,300,500,1000] \n",
        "min_samples_split=[2,3,5,7,9] \n",
        "min_samples_leaf=[1,2,4,6,8] \n",
        "max_features=['auto','sqrt','log2',None] \n",
        "hyperparameter_grid={'n_estimators':n_estimators,'min_samples_leaf':min_samples_leaf,'min_samples_split':min_samples_split,'max_features':max_features}"
      ],
      "execution_count": 52,
      "outputs": []
    },
    {
      "cell_type": "code",
      "metadata": {
        "id": "6E9vHfRif6f3"
      },
      "source": [
        "#Randomized Search CV\n",
        "from sklearn.model_selection import RandomizedSearchCV"
      ],
      "execution_count": 53,
      "outputs": []
    },
    {
      "cell_type": "code",
      "metadata": {
        "colab": {
          "base_uri": "https://localhost:8080/"
        },
        "id": "9NcXcb_3gb6E",
        "outputId": "8fb7d2cc-912d-48e0-f9c7-ae9b1ab0370f"
      },
      "source": [
        "random_search_cv=RandomizedSearchCV(estimator=e_t_c,param_distributions=hyperparameter_grid,random_state=1)\n",
        "random_search_cv=random_search_cv.fit(scaled_train_df,y_train)"
      ],
      "execution_count": 54,
      "outputs": [
        {
          "output_type": "stream",
          "name": "stderr",
          "text": [
            "/usr/local/lib/python3.7/dist-packages/sklearn/model_selection/_validation.py:515: DataConversionWarning: A column-vector y was passed when a 1d array was expected. Please change the shape of y to (n_samples,), for example using ravel().\n",
            "  estimator.fit(X_train, y_train, **fit_params)\n",
            "/usr/local/lib/python3.7/dist-packages/sklearn/model_selection/_validation.py:515: DataConversionWarning: A column-vector y was passed when a 1d array was expected. Please change the shape of y to (n_samples,), for example using ravel().\n",
            "  estimator.fit(X_train, y_train, **fit_params)\n",
            "/usr/local/lib/python3.7/dist-packages/sklearn/model_selection/_validation.py:515: DataConversionWarning: A column-vector y was passed when a 1d array was expected. Please change the shape of y to (n_samples,), for example using ravel().\n",
            "  estimator.fit(X_train, y_train, **fit_params)\n",
            "/usr/local/lib/python3.7/dist-packages/sklearn/model_selection/_validation.py:515: DataConversionWarning: A column-vector y was passed when a 1d array was expected. Please change the shape of y to (n_samples,), for example using ravel().\n",
            "  estimator.fit(X_train, y_train, **fit_params)\n",
            "/usr/local/lib/python3.7/dist-packages/sklearn/model_selection/_validation.py:515: DataConversionWarning: A column-vector y was passed when a 1d array was expected. Please change the shape of y to (n_samples,), for example using ravel().\n",
            "  estimator.fit(X_train, y_train, **fit_params)\n",
            "/usr/local/lib/python3.7/dist-packages/sklearn/model_selection/_validation.py:515: DataConversionWarning: A column-vector y was passed when a 1d array was expected. Please change the shape of y to (n_samples,), for example using ravel().\n",
            "  estimator.fit(X_train, y_train, **fit_params)\n",
            "/usr/local/lib/python3.7/dist-packages/sklearn/model_selection/_validation.py:515: DataConversionWarning: A column-vector y was passed when a 1d array was expected. Please change the shape of y to (n_samples,), for example using ravel().\n",
            "  estimator.fit(X_train, y_train, **fit_params)\n",
            "/usr/local/lib/python3.7/dist-packages/sklearn/model_selection/_validation.py:515: DataConversionWarning: A column-vector y was passed when a 1d array was expected. Please change the shape of y to (n_samples,), for example using ravel().\n",
            "  estimator.fit(X_train, y_train, **fit_params)\n",
            "/usr/local/lib/python3.7/dist-packages/sklearn/model_selection/_validation.py:515: DataConversionWarning: A column-vector y was passed when a 1d array was expected. Please change the shape of y to (n_samples,), for example using ravel().\n",
            "  estimator.fit(X_train, y_train, **fit_params)\n",
            "/usr/local/lib/python3.7/dist-packages/sklearn/model_selection/_validation.py:515: DataConversionWarning: A column-vector y was passed when a 1d array was expected. Please change the shape of y to (n_samples,), for example using ravel().\n",
            "  estimator.fit(X_train, y_train, **fit_params)\n",
            "/usr/local/lib/python3.7/dist-packages/sklearn/model_selection/_validation.py:515: DataConversionWarning: A column-vector y was passed when a 1d array was expected. Please change the shape of y to (n_samples,), for example using ravel().\n",
            "  estimator.fit(X_train, y_train, **fit_params)\n",
            "/usr/local/lib/python3.7/dist-packages/sklearn/model_selection/_validation.py:515: DataConversionWarning: A column-vector y was passed when a 1d array was expected. Please change the shape of y to (n_samples,), for example using ravel().\n",
            "  estimator.fit(X_train, y_train, **fit_params)\n",
            "/usr/local/lib/python3.7/dist-packages/sklearn/model_selection/_validation.py:515: DataConversionWarning: A column-vector y was passed when a 1d array was expected. Please change the shape of y to (n_samples,), for example using ravel().\n",
            "  estimator.fit(X_train, y_train, **fit_params)\n",
            "/usr/local/lib/python3.7/dist-packages/sklearn/model_selection/_validation.py:515: DataConversionWarning: A column-vector y was passed when a 1d array was expected. Please change the shape of y to (n_samples,), for example using ravel().\n",
            "  estimator.fit(X_train, y_train, **fit_params)\n",
            "/usr/local/lib/python3.7/dist-packages/sklearn/model_selection/_validation.py:515: DataConversionWarning: A column-vector y was passed when a 1d array was expected. Please change the shape of y to (n_samples,), for example using ravel().\n",
            "  estimator.fit(X_train, y_train, **fit_params)\n",
            "/usr/local/lib/python3.7/dist-packages/sklearn/model_selection/_validation.py:515: DataConversionWarning: A column-vector y was passed when a 1d array was expected. Please change the shape of y to (n_samples,), for example using ravel().\n",
            "  estimator.fit(X_train, y_train, **fit_params)\n",
            "/usr/local/lib/python3.7/dist-packages/sklearn/model_selection/_validation.py:515: DataConversionWarning: A column-vector y was passed when a 1d array was expected. Please change the shape of y to (n_samples,), for example using ravel().\n",
            "  estimator.fit(X_train, y_train, **fit_params)\n",
            "/usr/local/lib/python3.7/dist-packages/sklearn/model_selection/_validation.py:515: DataConversionWarning: A column-vector y was passed when a 1d array was expected. Please change the shape of y to (n_samples,), for example using ravel().\n",
            "  estimator.fit(X_train, y_train, **fit_params)\n",
            "/usr/local/lib/python3.7/dist-packages/sklearn/model_selection/_validation.py:515: DataConversionWarning: A column-vector y was passed when a 1d array was expected. Please change the shape of y to (n_samples,), for example using ravel().\n",
            "  estimator.fit(X_train, y_train, **fit_params)\n",
            "/usr/local/lib/python3.7/dist-packages/sklearn/model_selection/_validation.py:515: DataConversionWarning: A column-vector y was passed when a 1d array was expected. Please change the shape of y to (n_samples,), for example using ravel().\n",
            "  estimator.fit(X_train, y_train, **fit_params)\n",
            "/usr/local/lib/python3.7/dist-packages/sklearn/model_selection/_validation.py:515: DataConversionWarning: A column-vector y was passed when a 1d array was expected. Please change the shape of y to (n_samples,), for example using ravel().\n",
            "  estimator.fit(X_train, y_train, **fit_params)\n",
            "/usr/local/lib/python3.7/dist-packages/sklearn/model_selection/_validation.py:515: DataConversionWarning: A column-vector y was passed when a 1d array was expected. Please change the shape of y to (n_samples,), for example using ravel().\n",
            "  estimator.fit(X_train, y_train, **fit_params)\n",
            "/usr/local/lib/python3.7/dist-packages/sklearn/model_selection/_validation.py:515: DataConversionWarning: A column-vector y was passed when a 1d array was expected. Please change the shape of y to (n_samples,), for example using ravel().\n",
            "  estimator.fit(X_train, y_train, **fit_params)\n",
            "/usr/local/lib/python3.7/dist-packages/sklearn/model_selection/_validation.py:515: DataConversionWarning: A column-vector y was passed when a 1d array was expected. Please change the shape of y to (n_samples,), for example using ravel().\n",
            "  estimator.fit(X_train, y_train, **fit_params)\n",
            "/usr/local/lib/python3.7/dist-packages/sklearn/model_selection/_validation.py:515: DataConversionWarning: A column-vector y was passed when a 1d array was expected. Please change the shape of y to (n_samples,), for example using ravel().\n",
            "  estimator.fit(X_train, y_train, **fit_params)\n",
            "/usr/local/lib/python3.7/dist-packages/sklearn/model_selection/_validation.py:515: DataConversionWarning: A column-vector y was passed when a 1d array was expected. Please change the shape of y to (n_samples,), for example using ravel().\n",
            "  estimator.fit(X_train, y_train, **fit_params)\n",
            "/usr/local/lib/python3.7/dist-packages/sklearn/model_selection/_validation.py:515: DataConversionWarning: A column-vector y was passed when a 1d array was expected. Please change the shape of y to (n_samples,), for example using ravel().\n",
            "  estimator.fit(X_train, y_train, **fit_params)\n",
            "/usr/local/lib/python3.7/dist-packages/sklearn/model_selection/_validation.py:515: DataConversionWarning: A column-vector y was passed when a 1d array was expected. Please change the shape of y to (n_samples,), for example using ravel().\n",
            "  estimator.fit(X_train, y_train, **fit_params)\n",
            "/usr/local/lib/python3.7/dist-packages/sklearn/model_selection/_validation.py:515: DataConversionWarning: A column-vector y was passed when a 1d array was expected. Please change the shape of y to (n_samples,), for example using ravel().\n",
            "  estimator.fit(X_train, y_train, **fit_params)\n",
            "/usr/local/lib/python3.7/dist-packages/sklearn/model_selection/_validation.py:515: DataConversionWarning: A column-vector y was passed when a 1d array was expected. Please change the shape of y to (n_samples,), for example using ravel().\n",
            "  estimator.fit(X_train, y_train, **fit_params)\n",
            "/usr/local/lib/python3.7/dist-packages/sklearn/model_selection/_validation.py:515: DataConversionWarning: A column-vector y was passed when a 1d array was expected. Please change the shape of y to (n_samples,), for example using ravel().\n",
            "  estimator.fit(X_train, y_train, **fit_params)\n",
            "/usr/local/lib/python3.7/dist-packages/sklearn/model_selection/_validation.py:515: DataConversionWarning: A column-vector y was passed when a 1d array was expected. Please change the shape of y to (n_samples,), for example using ravel().\n",
            "  estimator.fit(X_train, y_train, **fit_params)\n",
            "/usr/local/lib/python3.7/dist-packages/sklearn/model_selection/_validation.py:515: DataConversionWarning: A column-vector y was passed when a 1d array was expected. Please change the shape of y to (n_samples,), for example using ravel().\n",
            "  estimator.fit(X_train, y_train, **fit_params)\n",
            "/usr/local/lib/python3.7/dist-packages/sklearn/model_selection/_validation.py:515: DataConversionWarning: A column-vector y was passed when a 1d array was expected. Please change the shape of y to (n_samples,), for example using ravel().\n",
            "  estimator.fit(X_train, y_train, **fit_params)\n",
            "/usr/local/lib/python3.7/dist-packages/sklearn/model_selection/_validation.py:515: DataConversionWarning: A column-vector y was passed when a 1d array was expected. Please change the shape of y to (n_samples,), for example using ravel().\n",
            "  estimator.fit(X_train, y_train, **fit_params)\n",
            "/usr/local/lib/python3.7/dist-packages/sklearn/model_selection/_validation.py:515: DataConversionWarning: A column-vector y was passed when a 1d array was expected. Please change the shape of y to (n_samples,), for example using ravel().\n",
            "  estimator.fit(X_train, y_train, **fit_params)\n",
            "/usr/local/lib/python3.7/dist-packages/sklearn/model_selection/_validation.py:515: DataConversionWarning: A column-vector y was passed when a 1d array was expected. Please change the shape of y to (n_samples,), for example using ravel().\n",
            "  estimator.fit(X_train, y_train, **fit_params)\n",
            "/usr/local/lib/python3.7/dist-packages/sklearn/model_selection/_validation.py:515: DataConversionWarning: A column-vector y was passed when a 1d array was expected. Please change the shape of y to (n_samples,), for example using ravel().\n",
            "  estimator.fit(X_train, y_train, **fit_params)\n",
            "/usr/local/lib/python3.7/dist-packages/sklearn/model_selection/_validation.py:515: DataConversionWarning: A column-vector y was passed when a 1d array was expected. Please change the shape of y to (n_samples,), for example using ravel().\n",
            "  estimator.fit(X_train, y_train, **fit_params)\n",
            "/usr/local/lib/python3.7/dist-packages/sklearn/model_selection/_validation.py:515: DataConversionWarning: A column-vector y was passed when a 1d array was expected. Please change the shape of y to (n_samples,), for example using ravel().\n",
            "  estimator.fit(X_train, y_train, **fit_params)\n",
            "/usr/local/lib/python3.7/dist-packages/sklearn/model_selection/_validation.py:515: DataConversionWarning: A column-vector y was passed when a 1d array was expected. Please change the shape of y to (n_samples,), for example using ravel().\n",
            "  estimator.fit(X_train, y_train, **fit_params)\n",
            "/usr/local/lib/python3.7/dist-packages/sklearn/model_selection/_validation.py:515: DataConversionWarning: A column-vector y was passed when a 1d array was expected. Please change the shape of y to (n_samples,), for example using ravel().\n",
            "  estimator.fit(X_train, y_train, **fit_params)\n",
            "/usr/local/lib/python3.7/dist-packages/sklearn/model_selection/_validation.py:515: DataConversionWarning: A column-vector y was passed when a 1d array was expected. Please change the shape of y to (n_samples,), for example using ravel().\n",
            "  estimator.fit(X_train, y_train, **fit_params)\n",
            "/usr/local/lib/python3.7/dist-packages/sklearn/model_selection/_validation.py:515: DataConversionWarning: A column-vector y was passed when a 1d array was expected. Please change the shape of y to (n_samples,), for example using ravel().\n",
            "  estimator.fit(X_train, y_train, **fit_params)\n",
            "/usr/local/lib/python3.7/dist-packages/sklearn/model_selection/_validation.py:515: DataConversionWarning: A column-vector y was passed when a 1d array was expected. Please change the shape of y to (n_samples,), for example using ravel().\n",
            "  estimator.fit(X_train, y_train, **fit_params)\n",
            "/usr/local/lib/python3.7/dist-packages/sklearn/model_selection/_validation.py:515: DataConversionWarning: A column-vector y was passed when a 1d array was expected. Please change the shape of y to (n_samples,), for example using ravel().\n",
            "  estimator.fit(X_train, y_train, **fit_params)\n",
            "/usr/local/lib/python3.7/dist-packages/sklearn/model_selection/_validation.py:515: DataConversionWarning: A column-vector y was passed when a 1d array was expected. Please change the shape of y to (n_samples,), for example using ravel().\n",
            "  estimator.fit(X_train, y_train, **fit_params)\n",
            "/usr/local/lib/python3.7/dist-packages/sklearn/model_selection/_validation.py:515: DataConversionWarning: A column-vector y was passed when a 1d array was expected. Please change the shape of y to (n_samples,), for example using ravel().\n",
            "  estimator.fit(X_train, y_train, **fit_params)\n",
            "/usr/local/lib/python3.7/dist-packages/sklearn/model_selection/_validation.py:515: DataConversionWarning: A column-vector y was passed when a 1d array was expected. Please change the shape of y to (n_samples,), for example using ravel().\n",
            "  estimator.fit(X_train, y_train, **fit_params)\n",
            "/usr/local/lib/python3.7/dist-packages/sklearn/model_selection/_validation.py:515: DataConversionWarning: A column-vector y was passed when a 1d array was expected. Please change the shape of y to (n_samples,), for example using ravel().\n",
            "  estimator.fit(X_train, y_train, **fit_params)\n",
            "/usr/local/lib/python3.7/dist-packages/sklearn/model_selection/_search.py:739: DataConversionWarning: A column-vector y was passed when a 1d array was expected. Please change the shape of y to (n_samples,), for example using ravel().\n",
            "  self.best_estimator_.fit(X, y, **fit_params)\n"
          ]
        }
      ]
    },
    {
      "cell_type": "code",
      "metadata": {
        "colab": {
          "base_uri": "https://localhost:8080/"
        },
        "id": "EPWtVPEJg10E",
        "outputId": "03d3d247-b962-4155-f9b2-c48b65fce15e"
      },
      "source": [
        "random_search_cv.best_params_"
      ],
      "execution_count": 55,
      "outputs": [
        {
          "output_type": "execute_result",
          "data": {
            "text/plain": [
              "{'max_features': None,\n",
              " 'min_samples_leaf': 8,\n",
              " 'min_samples_split': 2,\n",
              " 'n_estimators': 1000}"
            ]
          },
          "metadata": {},
          "execution_count": 55
        }
      ]
    },
    {
      "cell_type": "code",
      "metadata": {
        "colab": {
          "base_uri": "https://localhost:8080/"
        },
        "id": "V0WXTN0xilEg",
        "outputId": "ea7abd5f-c76c-4218-d886-aecfb1b76512"
      },
      "source": [
        "random_search_cv.best_estimator_"
      ],
      "execution_count": 56,
      "outputs": [
        {
          "output_type": "execute_result",
          "data": {
            "text/plain": [
              "ExtraTreesClassifier(bootstrap=False, ccp_alpha=0.0, class_weight=None,\n",
              "                     criterion='gini', max_depth=None, max_features=None,\n",
              "                     max_leaf_nodes=None, max_samples=None,\n",
              "                     min_impurity_decrease=0.0, min_impurity_split=None,\n",
              "                     min_samples_leaf=8, min_samples_split=2,\n",
              "                     min_weight_fraction_leaf=0.0, n_estimators=1000,\n",
              "                     n_jobs=None, oob_score=False, random_state=1, verbose=0,\n",
              "                     warm_start=False)"
            ]
          },
          "metadata": {},
          "execution_count": 56
        }
      ]
    },
    {
      "cell_type": "code",
      "metadata": {
        "colab": {
          "base_uri": "https://localhost:8080/"
        },
        "id": "j25cPCejioBI",
        "outputId": "3f56d02e-2f39-4081-ca5e-c1e6b61d2b9b"
      },
      "source": [
        "#new Extra-Trees Classifier\n",
        "new_etc=ExtraTreesClassifier(random_state=1,n_estimators=1000,min_samples_leaf=8,max_features=None,min_samples_split=2)\n",
        "new_etc.fit(scaled_train_df,y_train)\n",
        "new_predict_etc=new_etc.predict(scaled_test_df)"
      ],
      "execution_count": 57,
      "outputs": [
        {
          "output_type": "stream",
          "name": "stderr",
          "text": [
            "/usr/local/lib/python3.7/dist-packages/ipykernel_launcher.py:3: DataConversionWarning: A column-vector y was passed when a 1d array was expected. Please change the shape of y to (n_samples,), for example using ravel().\n",
            "  This is separate from the ipykernel package so we can avoid doing imports until\n"
          ]
        }
      ]
    },
    {
      "cell_type": "code",
      "metadata": {
        "colab": {
          "base_uri": "https://localhost:8080/"
        },
        "id": "GUuuEsFpjqWQ",
        "outputId": "fa00e33e-78fb-4ecb-8838-9314ffac3d85"
      },
      "source": [
        "accuracy=accuracy_score(y_test,new_predict_etc)\n",
        "print('Accuracy: {}'.format(round(accuracy,4)))"
      ],
      "execution_count": 58,
      "outputs": [
        {
          "output_type": "stream",
          "name": "stdout",
          "text": [
            "Accuracy: 0.9285\n"
          ]
        }
      ]
    },
    {
      "cell_type": "code",
      "metadata": {
        "id": "xjjgbexHj9VF"
      },
      "source": [
        "#feature importance\n",
        "feat_imp=random_search_cv.best_estimator_.feature_importances_"
      ],
      "execution_count": 59,
      "outputs": []
    },
    {
      "cell_type": "code",
      "metadata": {
        "colab": {
          "base_uri": "https://localhost:8080/"
        },
        "id": "Gy7CIXoNkPqQ",
        "outputId": "d6f9e856-2690-45d1-fa3a-3ca0452c749a"
      },
      "source": [
        "feat_imp"
      ],
      "execution_count": 60,
      "outputs": [
        {
          "output_type": "execute_result",
          "data": {
            "text/plain": [
              "array([0.13723975, 0.1405075 , 0.13468029, 0.13541676, 0.00368342,\n",
              "       0.00533686, 0.00542927, 0.00496249, 0.10256244, 0.10757765,\n",
              "       0.11306268, 0.10954089])"
            ]
          },
          "metadata": {},
          "execution_count": 60
        }
      ]
    },
    {
      "cell_type": "code",
      "metadata": {
        "colab": {
          "base_uri": "https://localhost:8080/"
        },
        "id": "TzghzpIokrOc",
        "outputId": "a4a6988c-0ae3-4a83-fb65-fa164be1770d"
      },
      "source": [
        "sorted(zip(feat_imp,x))"
      ],
      "execution_count": 61,
      "outputs": [
        {
          "output_type": "execute_result",
          "data": {
            "text/plain": [
              "[(0.003683422151688322, 'p1'),\n",
              " (0.004962486591192238, 'p4'),\n",
              " (0.005336864710946151, 'p2'),\n",
              " (0.005429268421191957, 'p3'),\n",
              " (0.10256244080927947, 'g1'),\n",
              " (0.10757764577478764, 'g2'),\n",
              " (0.10954089174337298, 'g4'),\n",
              " (0.11306267999167334, 'g3'),\n",
              " (0.13468028520386593, 'tau3'),\n",
              " (0.1354167630909727, 'tau4'),\n",
              " (0.13723974766109256, 'tau1'),\n",
              " (0.14050750384993677, 'tau2')]"
            ]
          },
          "metadata": {},
          "execution_count": 61
        }
      ]
    }
  ]
}