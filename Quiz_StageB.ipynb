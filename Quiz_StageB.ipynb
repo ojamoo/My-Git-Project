{
  "nbformat": 4,
  "nbformat_minor": 0,
  "metadata": {
    "colab": {
      "name": "Quiz_StageB.ipynb",
      "provenance": [],
      "collapsed_sections": [],
      "authorship_tag": "ABX9TyMpOk268KxcN8I5ZgiDagL3",
      "include_colab_link": true
    },
    "kernelspec": {
      "name": "python3",
      "display_name": "Python 3"
    },
    "language_info": {
      "name": "python"
    }
  },
  "cells": [
    {
      "cell_type": "markdown",
      "metadata": {
        "id": "view-in-github",
        "colab_type": "text"
      },
      "source": [
        "<a href=\"https://colab.research.google.com/github/ojamoo/My-Git-Project/blob/master/Quiz_StageB.ipynb\" target=\"_parent\"><img src=\"https://colab.research.google.com/assets/colab-badge.svg\" alt=\"Open In Colab\"/></a>"
      ]
    },
    {
      "cell_type": "code",
      "metadata": {
        "id": "90uXSRRXMP3B"
      },
      "source": [
        "import numpy as np\n",
        "import pandas as pd\n",
        "import seaborn as sns\n",
        "import matplotlib\n",
        "import matplotlib.pyplot as plt\n",
        "from sklearn.preprocessing import MinMaxScaler\n",
        "from sklearn.model_selection import train_test_split\n",
        "from sklearn import datasets, linear_model\n",
        "from sklearn.linear_model import LinearRegression\n",
        "from sklearn.metrics import mean_absolute_error\n",
        "from sklearn.metrics import mean_squared_error\n",
        "from sklearn.metrics import r2_score\n",
        "from sklearn.linear_model import Ridge\n",
        "from sklearn.linear_model import Lasso"
      ],
      "execution_count": 1,
      "outputs": []
    },
    {
      "cell_type": "code",
      "metadata": {
        "colab": {
          "base_uri": "https://localhost:8080/"
        },
        "id": "AOXM1RgZNeaq",
        "outputId": "72b1a72b-5e02-4003-c19a-dc24273af4ec"
      },
      "source": [
        "df=pd.read_csv('https://archive.ics.uci.edu/ml/machine-learning-databases/00374/energydata_complete.csv')\n",
        "print(df)"
      ],
      "execution_count": 2,
      "outputs": [
        {
          "output_type": "stream",
          "name": "stdout",
          "text": [
            "                      date  Appliances  lights  ...  Tdewpoint        rv1        rv2\n",
            "0      2016-01-11 17:00:00          60      30  ...   5.300000  13.275433  13.275433\n",
            "1      2016-01-11 17:10:00          60      30  ...   5.200000  18.606195  18.606195\n",
            "2      2016-01-11 17:20:00          50      30  ...   5.100000  28.642668  28.642668\n",
            "3      2016-01-11 17:30:00          50      40  ...   5.000000  45.410389  45.410389\n",
            "4      2016-01-11 17:40:00          60      40  ...   4.900000  10.084097  10.084097\n",
            "...                    ...         ...     ...  ...        ...        ...        ...\n",
            "19730  2016-05-27 17:20:00         100       0  ...  13.333333  43.096812  43.096812\n",
            "19731  2016-05-27 17:30:00          90       0  ...  13.300000  49.282940  49.282940\n",
            "19732  2016-05-27 17:40:00         270      10  ...  13.266667  29.199117  29.199117\n",
            "19733  2016-05-27 17:50:00         420      10  ...  13.233333   6.322784   6.322784\n",
            "19734  2016-05-27 18:00:00         430      10  ...  13.200000  34.118851  34.118851\n",
            "\n",
            "[19735 rows x 29 columns]\n"
          ]
        }
      ]
    },
    {
      "cell_type": "code",
      "metadata": {
        "colab": {
          "base_uri": "https://localhost:8080/",
          "height": 388
        },
        "id": "HtxPE4ZiOGgp",
        "outputId": "79698c0a-4fb2-4c6b-c5a8-b03ab0641b74"
      },
      "source": [
        "df.head()"
      ],
      "execution_count": 3,
      "outputs": [
        {
          "output_type": "execute_result",
          "data": {
            "text/html": [
              "<div>\n",
              "<style scoped>\n",
              "    .dataframe tbody tr th:only-of-type {\n",
              "        vertical-align: middle;\n",
              "    }\n",
              "\n",
              "    .dataframe tbody tr th {\n",
              "        vertical-align: top;\n",
              "    }\n",
              "\n",
              "    .dataframe thead th {\n",
              "        text-align: right;\n",
              "    }\n",
              "</style>\n",
              "<table border=\"1\" class=\"dataframe\">\n",
              "  <thead>\n",
              "    <tr style=\"text-align: right;\">\n",
              "      <th></th>\n",
              "      <th>date</th>\n",
              "      <th>Appliances</th>\n",
              "      <th>lights</th>\n",
              "      <th>T1</th>\n",
              "      <th>RH_1</th>\n",
              "      <th>T2</th>\n",
              "      <th>RH_2</th>\n",
              "      <th>T3</th>\n",
              "      <th>RH_3</th>\n",
              "      <th>T4</th>\n",
              "      <th>RH_4</th>\n",
              "      <th>T5</th>\n",
              "      <th>RH_5</th>\n",
              "      <th>T6</th>\n",
              "      <th>RH_6</th>\n",
              "      <th>T7</th>\n",
              "      <th>RH_7</th>\n",
              "      <th>T8</th>\n",
              "      <th>RH_8</th>\n",
              "      <th>T9</th>\n",
              "      <th>RH_9</th>\n",
              "      <th>T_out</th>\n",
              "      <th>Press_mm_hg</th>\n",
              "      <th>RH_out</th>\n",
              "      <th>Windspeed</th>\n",
              "      <th>Visibility</th>\n",
              "      <th>Tdewpoint</th>\n",
              "      <th>rv1</th>\n",
              "      <th>rv2</th>\n",
              "    </tr>\n",
              "  </thead>\n",
              "  <tbody>\n",
              "    <tr>\n",
              "      <th>0</th>\n",
              "      <td>2016-01-11 17:00:00</td>\n",
              "      <td>60</td>\n",
              "      <td>30</td>\n",
              "      <td>19.89</td>\n",
              "      <td>47.596667</td>\n",
              "      <td>19.2</td>\n",
              "      <td>44.790000</td>\n",
              "      <td>19.79</td>\n",
              "      <td>44.730000</td>\n",
              "      <td>19.000000</td>\n",
              "      <td>45.566667</td>\n",
              "      <td>17.166667</td>\n",
              "      <td>55.20</td>\n",
              "      <td>7.026667</td>\n",
              "      <td>84.256667</td>\n",
              "      <td>17.200000</td>\n",
              "      <td>41.626667</td>\n",
              "      <td>18.2</td>\n",
              "      <td>48.900000</td>\n",
              "      <td>17.033333</td>\n",
              "      <td>45.53</td>\n",
              "      <td>6.600000</td>\n",
              "      <td>733.5</td>\n",
              "      <td>92.0</td>\n",
              "      <td>7.000000</td>\n",
              "      <td>63.000000</td>\n",
              "      <td>5.3</td>\n",
              "      <td>13.275433</td>\n",
              "      <td>13.275433</td>\n",
              "    </tr>\n",
              "    <tr>\n",
              "      <th>1</th>\n",
              "      <td>2016-01-11 17:10:00</td>\n",
              "      <td>60</td>\n",
              "      <td>30</td>\n",
              "      <td>19.89</td>\n",
              "      <td>46.693333</td>\n",
              "      <td>19.2</td>\n",
              "      <td>44.722500</td>\n",
              "      <td>19.79</td>\n",
              "      <td>44.790000</td>\n",
              "      <td>19.000000</td>\n",
              "      <td>45.992500</td>\n",
              "      <td>17.166667</td>\n",
              "      <td>55.20</td>\n",
              "      <td>6.833333</td>\n",
              "      <td>84.063333</td>\n",
              "      <td>17.200000</td>\n",
              "      <td>41.560000</td>\n",
              "      <td>18.2</td>\n",
              "      <td>48.863333</td>\n",
              "      <td>17.066667</td>\n",
              "      <td>45.56</td>\n",
              "      <td>6.483333</td>\n",
              "      <td>733.6</td>\n",
              "      <td>92.0</td>\n",
              "      <td>6.666667</td>\n",
              "      <td>59.166667</td>\n",
              "      <td>5.2</td>\n",
              "      <td>18.606195</td>\n",
              "      <td>18.606195</td>\n",
              "    </tr>\n",
              "    <tr>\n",
              "      <th>2</th>\n",
              "      <td>2016-01-11 17:20:00</td>\n",
              "      <td>50</td>\n",
              "      <td>30</td>\n",
              "      <td>19.89</td>\n",
              "      <td>46.300000</td>\n",
              "      <td>19.2</td>\n",
              "      <td>44.626667</td>\n",
              "      <td>19.79</td>\n",
              "      <td>44.933333</td>\n",
              "      <td>18.926667</td>\n",
              "      <td>45.890000</td>\n",
              "      <td>17.166667</td>\n",
              "      <td>55.09</td>\n",
              "      <td>6.560000</td>\n",
              "      <td>83.156667</td>\n",
              "      <td>17.200000</td>\n",
              "      <td>41.433333</td>\n",
              "      <td>18.2</td>\n",
              "      <td>48.730000</td>\n",
              "      <td>17.000000</td>\n",
              "      <td>45.50</td>\n",
              "      <td>6.366667</td>\n",
              "      <td>733.7</td>\n",
              "      <td>92.0</td>\n",
              "      <td>6.333333</td>\n",
              "      <td>55.333333</td>\n",
              "      <td>5.1</td>\n",
              "      <td>28.642668</td>\n",
              "      <td>28.642668</td>\n",
              "    </tr>\n",
              "    <tr>\n",
              "      <th>3</th>\n",
              "      <td>2016-01-11 17:30:00</td>\n",
              "      <td>50</td>\n",
              "      <td>40</td>\n",
              "      <td>19.89</td>\n",
              "      <td>46.066667</td>\n",
              "      <td>19.2</td>\n",
              "      <td>44.590000</td>\n",
              "      <td>19.79</td>\n",
              "      <td>45.000000</td>\n",
              "      <td>18.890000</td>\n",
              "      <td>45.723333</td>\n",
              "      <td>17.166667</td>\n",
              "      <td>55.09</td>\n",
              "      <td>6.433333</td>\n",
              "      <td>83.423333</td>\n",
              "      <td>17.133333</td>\n",
              "      <td>41.290000</td>\n",
              "      <td>18.1</td>\n",
              "      <td>48.590000</td>\n",
              "      <td>17.000000</td>\n",
              "      <td>45.40</td>\n",
              "      <td>6.250000</td>\n",
              "      <td>733.8</td>\n",
              "      <td>92.0</td>\n",
              "      <td>6.000000</td>\n",
              "      <td>51.500000</td>\n",
              "      <td>5.0</td>\n",
              "      <td>45.410389</td>\n",
              "      <td>45.410389</td>\n",
              "    </tr>\n",
              "    <tr>\n",
              "      <th>4</th>\n",
              "      <td>2016-01-11 17:40:00</td>\n",
              "      <td>60</td>\n",
              "      <td>40</td>\n",
              "      <td>19.89</td>\n",
              "      <td>46.333333</td>\n",
              "      <td>19.2</td>\n",
              "      <td>44.530000</td>\n",
              "      <td>19.79</td>\n",
              "      <td>45.000000</td>\n",
              "      <td>18.890000</td>\n",
              "      <td>45.530000</td>\n",
              "      <td>17.200000</td>\n",
              "      <td>55.09</td>\n",
              "      <td>6.366667</td>\n",
              "      <td>84.893333</td>\n",
              "      <td>17.200000</td>\n",
              "      <td>41.230000</td>\n",
              "      <td>18.1</td>\n",
              "      <td>48.590000</td>\n",
              "      <td>17.000000</td>\n",
              "      <td>45.40</td>\n",
              "      <td>6.133333</td>\n",
              "      <td>733.9</td>\n",
              "      <td>92.0</td>\n",
              "      <td>5.666667</td>\n",
              "      <td>47.666667</td>\n",
              "      <td>4.9</td>\n",
              "      <td>10.084097</td>\n",
              "      <td>10.084097</td>\n",
              "    </tr>\n",
              "  </tbody>\n",
              "</table>\n",
              "</div>"
            ],
            "text/plain": [
              "                  date  Appliances  lights  ...  Tdewpoint        rv1        rv2\n",
              "0  2016-01-11 17:00:00          60      30  ...        5.3  13.275433  13.275433\n",
              "1  2016-01-11 17:10:00          60      30  ...        5.2  18.606195  18.606195\n",
              "2  2016-01-11 17:20:00          50      30  ...        5.1  28.642668  28.642668\n",
              "3  2016-01-11 17:30:00          50      40  ...        5.0  45.410389  45.410389\n",
              "4  2016-01-11 17:40:00          60      40  ...        4.9  10.084097  10.084097\n",
              "\n",
              "[5 rows x 29 columns]"
            ]
          },
          "metadata": {},
          "execution_count": 3
        }
      ]
    },
    {
      "cell_type": "code",
      "metadata": {
        "colab": {
          "base_uri": "https://localhost:8080/",
          "height": 222
        },
        "id": "Awx7u9qPPZt9",
        "outputId": "0bbd8b7e-1d3d-4d38-ccf8-01cf9c6444ec"
      },
      "source": [
        "#removing columns date and lights\n",
        "features_df=df.drop(columns=['date','lights'])\n",
        "features_df.head()"
      ],
      "execution_count": 4,
      "outputs": [
        {
          "output_type": "execute_result",
          "data": {
            "text/html": [
              "<div>\n",
              "<style scoped>\n",
              "    .dataframe tbody tr th:only-of-type {\n",
              "        vertical-align: middle;\n",
              "    }\n",
              "\n",
              "    .dataframe tbody tr th {\n",
              "        vertical-align: top;\n",
              "    }\n",
              "\n",
              "    .dataframe thead th {\n",
              "        text-align: right;\n",
              "    }\n",
              "</style>\n",
              "<table border=\"1\" class=\"dataframe\">\n",
              "  <thead>\n",
              "    <tr style=\"text-align: right;\">\n",
              "      <th></th>\n",
              "      <th>Appliances</th>\n",
              "      <th>T1</th>\n",
              "      <th>RH_1</th>\n",
              "      <th>T2</th>\n",
              "      <th>RH_2</th>\n",
              "      <th>T3</th>\n",
              "      <th>RH_3</th>\n",
              "      <th>T4</th>\n",
              "      <th>RH_4</th>\n",
              "      <th>T5</th>\n",
              "      <th>RH_5</th>\n",
              "      <th>T6</th>\n",
              "      <th>RH_6</th>\n",
              "      <th>T7</th>\n",
              "      <th>RH_7</th>\n",
              "      <th>T8</th>\n",
              "      <th>RH_8</th>\n",
              "      <th>T9</th>\n",
              "      <th>RH_9</th>\n",
              "      <th>T_out</th>\n",
              "      <th>Press_mm_hg</th>\n",
              "      <th>RH_out</th>\n",
              "      <th>Windspeed</th>\n",
              "      <th>Visibility</th>\n",
              "      <th>Tdewpoint</th>\n",
              "      <th>rv1</th>\n",
              "      <th>rv2</th>\n",
              "    </tr>\n",
              "  </thead>\n",
              "  <tbody>\n",
              "    <tr>\n",
              "      <th>0</th>\n",
              "      <td>60</td>\n",
              "      <td>19.89</td>\n",
              "      <td>47.596667</td>\n",
              "      <td>19.2</td>\n",
              "      <td>44.790000</td>\n",
              "      <td>19.79</td>\n",
              "      <td>44.730000</td>\n",
              "      <td>19.000000</td>\n",
              "      <td>45.566667</td>\n",
              "      <td>17.166667</td>\n",
              "      <td>55.20</td>\n",
              "      <td>7.026667</td>\n",
              "      <td>84.256667</td>\n",
              "      <td>17.200000</td>\n",
              "      <td>41.626667</td>\n",
              "      <td>18.2</td>\n",
              "      <td>48.900000</td>\n",
              "      <td>17.033333</td>\n",
              "      <td>45.53</td>\n",
              "      <td>6.600000</td>\n",
              "      <td>733.5</td>\n",
              "      <td>92.0</td>\n",
              "      <td>7.000000</td>\n",
              "      <td>63.000000</td>\n",
              "      <td>5.3</td>\n",
              "      <td>13.275433</td>\n",
              "      <td>13.275433</td>\n",
              "    </tr>\n",
              "    <tr>\n",
              "      <th>1</th>\n",
              "      <td>60</td>\n",
              "      <td>19.89</td>\n",
              "      <td>46.693333</td>\n",
              "      <td>19.2</td>\n",
              "      <td>44.722500</td>\n",
              "      <td>19.79</td>\n",
              "      <td>44.790000</td>\n",
              "      <td>19.000000</td>\n",
              "      <td>45.992500</td>\n",
              "      <td>17.166667</td>\n",
              "      <td>55.20</td>\n",
              "      <td>6.833333</td>\n",
              "      <td>84.063333</td>\n",
              "      <td>17.200000</td>\n",
              "      <td>41.560000</td>\n",
              "      <td>18.2</td>\n",
              "      <td>48.863333</td>\n",
              "      <td>17.066667</td>\n",
              "      <td>45.56</td>\n",
              "      <td>6.483333</td>\n",
              "      <td>733.6</td>\n",
              "      <td>92.0</td>\n",
              "      <td>6.666667</td>\n",
              "      <td>59.166667</td>\n",
              "      <td>5.2</td>\n",
              "      <td>18.606195</td>\n",
              "      <td>18.606195</td>\n",
              "    </tr>\n",
              "    <tr>\n",
              "      <th>2</th>\n",
              "      <td>50</td>\n",
              "      <td>19.89</td>\n",
              "      <td>46.300000</td>\n",
              "      <td>19.2</td>\n",
              "      <td>44.626667</td>\n",
              "      <td>19.79</td>\n",
              "      <td>44.933333</td>\n",
              "      <td>18.926667</td>\n",
              "      <td>45.890000</td>\n",
              "      <td>17.166667</td>\n",
              "      <td>55.09</td>\n",
              "      <td>6.560000</td>\n",
              "      <td>83.156667</td>\n",
              "      <td>17.200000</td>\n",
              "      <td>41.433333</td>\n",
              "      <td>18.2</td>\n",
              "      <td>48.730000</td>\n",
              "      <td>17.000000</td>\n",
              "      <td>45.50</td>\n",
              "      <td>6.366667</td>\n",
              "      <td>733.7</td>\n",
              "      <td>92.0</td>\n",
              "      <td>6.333333</td>\n",
              "      <td>55.333333</td>\n",
              "      <td>5.1</td>\n",
              "      <td>28.642668</td>\n",
              "      <td>28.642668</td>\n",
              "    </tr>\n",
              "    <tr>\n",
              "      <th>3</th>\n",
              "      <td>50</td>\n",
              "      <td>19.89</td>\n",
              "      <td>46.066667</td>\n",
              "      <td>19.2</td>\n",
              "      <td>44.590000</td>\n",
              "      <td>19.79</td>\n",
              "      <td>45.000000</td>\n",
              "      <td>18.890000</td>\n",
              "      <td>45.723333</td>\n",
              "      <td>17.166667</td>\n",
              "      <td>55.09</td>\n",
              "      <td>6.433333</td>\n",
              "      <td>83.423333</td>\n",
              "      <td>17.133333</td>\n",
              "      <td>41.290000</td>\n",
              "      <td>18.1</td>\n",
              "      <td>48.590000</td>\n",
              "      <td>17.000000</td>\n",
              "      <td>45.40</td>\n",
              "      <td>6.250000</td>\n",
              "      <td>733.8</td>\n",
              "      <td>92.0</td>\n",
              "      <td>6.000000</td>\n",
              "      <td>51.500000</td>\n",
              "      <td>5.0</td>\n",
              "      <td>45.410389</td>\n",
              "      <td>45.410389</td>\n",
              "    </tr>\n",
              "    <tr>\n",
              "      <th>4</th>\n",
              "      <td>60</td>\n",
              "      <td>19.89</td>\n",
              "      <td>46.333333</td>\n",
              "      <td>19.2</td>\n",
              "      <td>44.530000</td>\n",
              "      <td>19.79</td>\n",
              "      <td>45.000000</td>\n",
              "      <td>18.890000</td>\n",
              "      <td>45.530000</td>\n",
              "      <td>17.200000</td>\n",
              "      <td>55.09</td>\n",
              "      <td>6.366667</td>\n",
              "      <td>84.893333</td>\n",
              "      <td>17.200000</td>\n",
              "      <td>41.230000</td>\n",
              "      <td>18.1</td>\n",
              "      <td>48.590000</td>\n",
              "      <td>17.000000</td>\n",
              "      <td>45.40</td>\n",
              "      <td>6.133333</td>\n",
              "      <td>733.9</td>\n",
              "      <td>92.0</td>\n",
              "      <td>5.666667</td>\n",
              "      <td>47.666667</td>\n",
              "      <td>4.9</td>\n",
              "      <td>10.084097</td>\n",
              "      <td>10.084097</td>\n",
              "    </tr>\n",
              "  </tbody>\n",
              "</table>\n",
              "</div>"
            ],
            "text/plain": [
              "   Appliances     T1       RH_1  ...  Tdewpoint        rv1        rv2\n",
              "0          60  19.89  47.596667  ...        5.3  13.275433  13.275433\n",
              "1          60  19.89  46.693333  ...        5.2  18.606195  18.606195\n",
              "2          50  19.89  46.300000  ...        5.1  28.642668  28.642668\n",
              "3          50  19.89  46.066667  ...        5.0  45.410389  45.410389\n",
              "4          60  19.89  46.333333  ...        4.9  10.084097  10.084097\n",
              "\n",
              "[5 rows x 27 columns]"
            ]
          },
          "metadata": {},
          "execution_count": 4
        }
      ]
    },
    {
      "cell_type": "code",
      "metadata": {
        "id": "0Np37rd3QddM"
      },
      "source": [
        ""
      ],
      "execution_count": 4,
      "outputs": []
    },
    {
      "cell_type": "code",
      "metadata": {
        "id": "9AX8wWkaObtT"
      },
      "source": [
        "#normalizing the dataset to a common scale using minmaxscalar\n",
        "scaler=MinMaxScaler()\n",
        "normalised_df=pd.DataFrame(scaler.fit_transform(features_df),columns=features_df.columns)"
      ],
      "execution_count": 5,
      "outputs": []
    },
    {
      "cell_type": "code",
      "metadata": {
        "colab": {
          "base_uri": "https://localhost:8080/"
        },
        "id": "oz_iqhnERLWW",
        "outputId": "f4569dbb-0cb7-4fe8-cc33-0284b73ea62c"
      },
      "source": [
        "target_variable=normalised_df['Appliances']\n",
        "print(target_variable)"
      ],
      "execution_count": 6,
      "outputs": [
        {
          "output_type": "stream",
          "name": "stdout",
          "text": [
            "0        0.046729\n",
            "1        0.046729\n",
            "2        0.037383\n",
            "3        0.037383\n",
            "4        0.046729\n",
            "           ...   \n",
            "19730    0.084112\n",
            "19731    0.074766\n",
            "19732    0.242991\n",
            "19733    0.383178\n",
            "19734    0.392523\n",
            "Name: Appliances, Length: 19735, dtype: float64\n"
          ]
        }
      ]
    },
    {
      "cell_type": "code",
      "metadata": {
        "id": "GyJNlVtRRyRE"
      },
      "source": [
        "#we split our dataset into the training and testing dataset\n",
        "x_train, x_test, y_train, y_test = train_test_split(normalised_df, target_variable, test_size=0.3, random_state=42)"
      ],
      "execution_count": 7,
      "outputs": []
    },
    {
      "cell_type": "code",
      "metadata": {
        "colab": {
          "base_uri": "https://localhost:8080/",
          "height": 222
        },
        "id": "7GrBL33bUQpK",
        "outputId": "54f431fb-c53a-403c-f9d1-31b979df57c2"
      },
      "source": [
        "x_train.head()"
      ],
      "execution_count": 8,
      "outputs": [
        {
          "output_type": "execute_result",
          "data": {
            "text/html": [
              "<div>\n",
              "<style scoped>\n",
              "    .dataframe tbody tr th:only-of-type {\n",
              "        vertical-align: middle;\n",
              "    }\n",
              "\n",
              "    .dataframe tbody tr th {\n",
              "        vertical-align: top;\n",
              "    }\n",
              "\n",
              "    .dataframe thead th {\n",
              "        text-align: right;\n",
              "    }\n",
              "</style>\n",
              "<table border=\"1\" class=\"dataframe\">\n",
              "  <thead>\n",
              "    <tr style=\"text-align: right;\">\n",
              "      <th></th>\n",
              "      <th>Appliances</th>\n",
              "      <th>T1</th>\n",
              "      <th>RH_1</th>\n",
              "      <th>T2</th>\n",
              "      <th>RH_2</th>\n",
              "      <th>T3</th>\n",
              "      <th>RH_3</th>\n",
              "      <th>T4</th>\n",
              "      <th>RH_4</th>\n",
              "      <th>T5</th>\n",
              "      <th>RH_5</th>\n",
              "      <th>T6</th>\n",
              "      <th>RH_6</th>\n",
              "      <th>T7</th>\n",
              "      <th>RH_7</th>\n",
              "      <th>T8</th>\n",
              "      <th>RH_8</th>\n",
              "      <th>T9</th>\n",
              "      <th>RH_9</th>\n",
              "      <th>T_out</th>\n",
              "      <th>Press_mm_hg</th>\n",
              "      <th>RH_out</th>\n",
              "      <th>Windspeed</th>\n",
              "      <th>Visibility</th>\n",
              "      <th>Tdewpoint</th>\n",
              "      <th>rv1</th>\n",
              "      <th>rv2</th>\n",
              "    </tr>\n",
              "  </thead>\n",
              "  <tbody>\n",
              "    <tr>\n",
              "      <th>9129</th>\n",
              "      <td>0.037383</td>\n",
              "      <td>0.497360</td>\n",
              "      <td>0.236767</td>\n",
              "      <td>0.122850</td>\n",
              "      <td>0.565939</td>\n",
              "      <td>0.373878</td>\n",
              "      <td>0.303474</td>\n",
              "      <td>0.476577</td>\n",
              "      <td>0.264760</td>\n",
              "      <td>0.408027</td>\n",
              "      <td>0.159533</td>\n",
              "      <td>0.180420</td>\n",
              "      <td>0.484901</td>\n",
              "      <td>0.508954</td>\n",
              "      <td>0.141844</td>\n",
              "      <td>0.530363</td>\n",
              "      <td>0.332077</td>\n",
              "      <td>0.475893</td>\n",
              "      <td>0.376380</td>\n",
              "      <td>0.168810</td>\n",
              "      <td>0.862791</td>\n",
              "      <td>0.776316</td>\n",
              "      <td>0.142857</td>\n",
              "      <td>0.984615</td>\n",
              "      <td>0.192308</td>\n",
              "      <td>0.724554</td>\n",
              "      <td>0.724554</td>\n",
              "    </tr>\n",
              "    <tr>\n",
              "      <th>2453</th>\n",
              "      <td>0.018692</td>\n",
              "      <td>0.286167</td>\n",
              "      <td>0.482616</td>\n",
              "      <td>0.188999</td>\n",
              "      <td>0.669978</td>\n",
              "      <td>0.217957</td>\n",
              "      <td>0.735317</td>\n",
              "      <td>0.270270</td>\n",
              "      <td>0.691421</td>\n",
              "      <td>0.178691</td>\n",
              "      <td>0.333576</td>\n",
              "      <td>0.275215</td>\n",
              "      <td>0.866532</td>\n",
              "      <td>0.329877</td>\n",
              "      <td>0.563121</td>\n",
              "      <td>0.227342</td>\n",
              "      <td>0.534613</td>\n",
              "      <td>0.240375</td>\n",
              "      <td>0.703504</td>\n",
              "      <td>0.262594</td>\n",
              "      <td>0.836434</td>\n",
              "      <td>0.807018</td>\n",
              "      <td>0.142857</td>\n",
              "      <td>0.600000</td>\n",
              "      <td>0.342383</td>\n",
              "      <td>0.864041</td>\n",
              "      <td>0.864041</td>\n",
              "    </tr>\n",
              "    <tr>\n",
              "      <th>9152</th>\n",
              "      <td>0.028037</td>\n",
              "      <td>0.422386</td>\n",
              "      <td>0.230529</td>\n",
              "      <td>0.057427</td>\n",
              "      <td>0.606430</td>\n",
              "      <td>0.373878</td>\n",
              "      <td>0.338059</td>\n",
              "      <td>0.414414</td>\n",
              "      <td>0.236449</td>\n",
              "      <td>0.378404</td>\n",
              "      <td>0.151639</td>\n",
              "      <td>0.131907</td>\n",
              "      <td>0.615369</td>\n",
              "      <td>0.471254</td>\n",
              "      <td>0.159574</td>\n",
              "      <td>0.496491</td>\n",
              "      <td>0.324195</td>\n",
              "      <td>0.468262</td>\n",
              "      <td>0.409803</td>\n",
              "      <td>0.110397</td>\n",
              "      <td>0.853488</td>\n",
              "      <td>0.859649</td>\n",
              "      <td>0.095238</td>\n",
              "      <td>0.917949</td>\n",
              "      <td>0.158371</td>\n",
              "      <td>0.499502</td>\n",
              "      <td>0.499502</td>\n",
              "    </tr>\n",
              "    <tr>\n",
              "      <th>12694</th>\n",
              "      <td>0.102804</td>\n",
              "      <td>0.560718</td>\n",
              "      <td>0.446840</td>\n",
              "      <td>0.280834</td>\n",
              "      <td>0.704002</td>\n",
              "      <td>0.514290</td>\n",
              "      <td>0.515189</td>\n",
              "      <td>0.540541</td>\n",
              "      <td>0.486556</td>\n",
              "      <td>0.509317</td>\n",
              "      <td>0.424604</td>\n",
              "      <td>0.444040</td>\n",
              "      <td>0.259050</td>\n",
              "      <td>0.559849</td>\n",
              "      <td>0.369220</td>\n",
              "      <td>0.740006</td>\n",
              "      <td>0.316450</td>\n",
              "      <td>0.561915</td>\n",
              "      <td>0.340784</td>\n",
              "      <td>0.444802</td>\n",
              "      <td>0.559690</td>\n",
              "      <td>0.750000</td>\n",
              "      <td>0.119048</td>\n",
              "      <td>0.384615</td>\n",
              "      <td>0.558069</td>\n",
              "      <td>0.323173</td>\n",
              "      <td>0.323173</td>\n",
              "    </tr>\n",
              "    <tr>\n",
              "      <th>16952</th>\n",
              "      <td>0.037383</td>\n",
              "      <td>0.835269</td>\n",
              "      <td>0.422071</td>\n",
              "      <td>1.000000</td>\n",
              "      <td>0.318493</td>\n",
              "      <td>0.745383</td>\n",
              "      <td>0.459106</td>\n",
              "      <td>0.900901</td>\n",
              "      <td>0.516432</td>\n",
              "      <td>0.748845</td>\n",
              "      <td>0.455819</td>\n",
              "      <td>0.944695</td>\n",
              "      <td>0.000000</td>\n",
              "      <td>0.811499</td>\n",
              "      <td>0.633121</td>\n",
              "      <td>0.744034</td>\n",
              "      <td>0.529678</td>\n",
              "      <td>0.854318</td>\n",
              "      <td>0.633278</td>\n",
              "      <td>0.849946</td>\n",
              "      <td>0.530233</td>\n",
              "      <td>0.355263</td>\n",
              "      <td>0.142857</td>\n",
              "      <td>0.600000</td>\n",
              "      <td>0.787330</td>\n",
              "      <td>0.341060</td>\n",
              "      <td>0.341060</td>\n",
              "    </tr>\n",
              "  </tbody>\n",
              "</table>\n",
              "</div>"
            ],
            "text/plain": [
              "       Appliances        T1      RH_1  ...  Tdewpoint       rv1       rv2\n",
              "9129     0.037383  0.497360  0.236767  ...   0.192308  0.724554  0.724554\n",
              "2453     0.018692  0.286167  0.482616  ...   0.342383  0.864041  0.864041\n",
              "9152     0.028037  0.422386  0.230529  ...   0.158371  0.499502  0.499502\n",
              "12694    0.102804  0.560718  0.446840  ...   0.558069  0.323173  0.323173\n",
              "16952    0.037383  0.835269  0.422071  ...   0.787330  0.341060  0.341060\n",
              "\n",
              "[5 rows x 27 columns]"
            ]
          },
          "metadata": {},
          "execution_count": 8
        }
      ]
    },
    {
      "cell_type": "code",
      "metadata": {
        "colab": {
          "base_uri": "https://localhost:8080/"
        },
        "id": "W7_s175TUSzN",
        "outputId": "0fdb6935-e05f-489e-a311-1836e71ac402"
      },
      "source": [
        "y_train.head()"
      ],
      "execution_count": 9,
      "outputs": [
        {
          "output_type": "execute_result",
          "data": {
            "text/plain": [
              "9129     0.037383\n",
              "2453     0.018692\n",
              "9152     0.028037\n",
              "12694    0.102804\n",
              "16952    0.037383\n",
              "Name: Appliances, dtype: float64"
            ]
          },
          "metadata": {},
          "execution_count": 9
        }
      ]
    },
    {
      "cell_type": "code",
      "metadata": {
        "colab": {
          "base_uri": "https://localhost:8080/",
          "height": 222
        },
        "id": "VAJXkpLOUaDo",
        "outputId": "637cb5bf-95dd-4b8f-9c9d-e07d1c7730b8"
      },
      "source": [
        "x_test.head()"
      ],
      "execution_count": 10,
      "outputs": [
        {
          "output_type": "execute_result",
          "data": {
            "text/html": [
              "<div>\n",
              "<style scoped>\n",
              "    .dataframe tbody tr th:only-of-type {\n",
              "        vertical-align: middle;\n",
              "    }\n",
              "\n",
              "    .dataframe tbody tr th {\n",
              "        vertical-align: top;\n",
              "    }\n",
              "\n",
              "    .dataframe thead th {\n",
              "        text-align: right;\n",
              "    }\n",
              "</style>\n",
              "<table border=\"1\" class=\"dataframe\">\n",
              "  <thead>\n",
              "    <tr style=\"text-align: right;\">\n",
              "      <th></th>\n",
              "      <th>Appliances</th>\n",
              "      <th>T1</th>\n",
              "      <th>RH_1</th>\n",
              "      <th>T2</th>\n",
              "      <th>RH_2</th>\n",
              "      <th>T3</th>\n",
              "      <th>RH_3</th>\n",
              "      <th>T4</th>\n",
              "      <th>RH_4</th>\n",
              "      <th>T5</th>\n",
              "      <th>RH_5</th>\n",
              "      <th>T6</th>\n",
              "      <th>RH_6</th>\n",
              "      <th>T7</th>\n",
              "      <th>RH_7</th>\n",
              "      <th>T8</th>\n",
              "      <th>RH_8</th>\n",
              "      <th>T9</th>\n",
              "      <th>RH_9</th>\n",
              "      <th>T_out</th>\n",
              "      <th>Press_mm_hg</th>\n",
              "      <th>RH_out</th>\n",
              "      <th>Windspeed</th>\n",
              "      <th>Visibility</th>\n",
              "      <th>Tdewpoint</th>\n",
              "      <th>rv1</th>\n",
              "      <th>rv2</th>\n",
              "    </tr>\n",
              "  </thead>\n",
              "  <tbody>\n",
              "    <tr>\n",
              "      <th>8980</th>\n",
              "      <td>0.028037</td>\n",
              "      <td>0.432946</td>\n",
              "      <td>0.230529</td>\n",
              "      <td>0.120669</td>\n",
              "      <td>0.525822</td>\n",
              "      <td>0.256730</td>\n",
              "      <td>0.380122</td>\n",
              "      <td>0.419820</td>\n",
              "      <td>0.279129</td>\n",
              "      <td>0.312470</td>\n",
              "      <td>0.322900</td>\n",
              "      <td>0.211427</td>\n",
              "      <td>0.635165</td>\n",
              "      <td>0.585297</td>\n",
              "      <td>0.371040</td>\n",
              "      <td>0.619049</td>\n",
              "      <td>0.347755</td>\n",
              "      <td>0.457856</td>\n",
              "      <td>0.408251</td>\n",
              "      <td>0.217578</td>\n",
              "      <td>0.920930</td>\n",
              "      <td>0.846491</td>\n",
              "      <td>0.166667</td>\n",
              "      <td>0.953846</td>\n",
              "      <td>0.298643</td>\n",
              "      <td>0.512428</td>\n",
              "      <td>0.512428</td>\n",
              "    </tr>\n",
              "    <tr>\n",
              "      <th>2754</th>\n",
              "      <td>0.074766</td>\n",
              "      <td>0.538543</td>\n",
              "      <td>0.717641</td>\n",
              "      <td>0.377272</td>\n",
              "      <td>0.700066</td>\n",
              "      <td>0.368339</td>\n",
              "      <td>0.956224</td>\n",
              "      <td>0.489489</td>\n",
              "      <td>0.567933</td>\n",
              "      <td>0.224346</td>\n",
              "      <td>0.426866</td>\n",
              "      <td>0.250182</td>\n",
              "      <td>0.971587</td>\n",
              "      <td>0.141376</td>\n",
              "      <td>0.572518</td>\n",
              "      <td>0.394568</td>\n",
              "      <td>0.615604</td>\n",
              "      <td>0.145682</td>\n",
              "      <td>0.622241</td>\n",
              "      <td>0.247588</td>\n",
              "      <td>0.588372</td>\n",
              "      <td>0.868421</td>\n",
              "      <td>0.214286</td>\n",
              "      <td>0.400000</td>\n",
              "      <td>0.352941</td>\n",
              "      <td>0.469466</td>\n",
              "      <td>0.469466</td>\n",
              "    </tr>\n",
              "    <tr>\n",
              "      <th>9132</th>\n",
              "      <td>0.037383</td>\n",
              "      <td>0.485744</td>\n",
              "      <td>0.233281</td>\n",
              "      <td>0.111461</td>\n",
              "      <td>0.564252</td>\n",
              "      <td>0.371109</td>\n",
              "      <td>0.300670</td>\n",
              "      <td>0.467568</td>\n",
              "      <td>0.260350</td>\n",
              "      <td>0.408027</td>\n",
              "      <td>0.157503</td>\n",
              "      <td>0.168777</td>\n",
              "      <td>0.504853</td>\n",
              "      <td>0.508954</td>\n",
              "      <td>0.145035</td>\n",
              "      <td>0.530363</td>\n",
              "      <td>0.343614</td>\n",
              "      <td>0.468262</td>\n",
              "      <td>0.377621</td>\n",
              "      <td>0.167203</td>\n",
              "      <td>0.858140</td>\n",
              "      <td>0.776316</td>\n",
              "      <td>0.142857</td>\n",
              "      <td>0.984615</td>\n",
              "      <td>0.190045</td>\n",
              "      <td>0.002761</td>\n",
              "      <td>0.002761</td>\n",
              "    </tr>\n",
              "    <tr>\n",
              "      <th>14359</th>\n",
              "      <td>0.037383</td>\n",
              "      <td>0.485744</td>\n",
              "      <td>0.385561</td>\n",
              "      <td>0.566271</td>\n",
              "      <td>0.404255</td>\n",
              "      <td>0.401573</td>\n",
              "      <td>0.381679</td>\n",
              "      <td>0.656757</td>\n",
              "      <td>0.323346</td>\n",
              "      <td>0.411212</td>\n",
              "      <td>0.202260</td>\n",
              "      <td>0.501383</td>\n",
              "      <td>0.094001</td>\n",
              "      <td>0.439208</td>\n",
              "      <td>0.254965</td>\n",
              "      <td>0.447971</td>\n",
              "      <td>0.290953</td>\n",
              "      <td>0.561915</td>\n",
              "      <td>0.388797</td>\n",
              "      <td>0.445338</td>\n",
              "      <td>0.895349</td>\n",
              "      <td>0.616228</td>\n",
              "      <td>0.369048</td>\n",
              "      <td>0.600000</td>\n",
              "      <td>0.466817</td>\n",
              "      <td>0.205799</td>\n",
              "      <td>0.205799</td>\n",
              "    </tr>\n",
              "    <tr>\n",
              "      <th>8875</th>\n",
              "      <td>0.056075</td>\n",
              "      <td>0.335093</td>\n",
              "      <td>0.223007</td>\n",
              "      <td>0.026411</td>\n",
              "      <td>0.552910</td>\n",
              "      <td>0.232635</td>\n",
              "      <td>0.356753</td>\n",
              "      <td>0.374775</td>\n",
              "      <td>0.311851</td>\n",
              "      <td>0.244625</td>\n",
              "      <td>0.288467</td>\n",
              "      <td>0.155193</td>\n",
              "      <td>0.710111</td>\n",
              "      <td>0.471254</td>\n",
              "      <td>0.385106</td>\n",
              "      <td>0.530363</td>\n",
              "      <td>0.342358</td>\n",
              "      <td>0.427680</td>\n",
              "      <td>0.477373</td>\n",
              "      <td>0.145766</td>\n",
              "      <td>0.938372</td>\n",
              "      <td>0.912281</td>\n",
              "      <td>0.285714</td>\n",
              "      <td>0.735897</td>\n",
              "      <td>0.233032</td>\n",
              "      <td>0.215015</td>\n",
              "      <td>0.215015</td>\n",
              "    </tr>\n",
              "  </tbody>\n",
              "</table>\n",
              "</div>"
            ],
            "text/plain": [
              "       Appliances        T1      RH_1  ...  Tdewpoint       rv1       rv2\n",
              "8980     0.028037  0.432946  0.230529  ...   0.298643  0.512428  0.512428\n",
              "2754     0.074766  0.538543  0.717641  ...   0.352941  0.469466  0.469466\n",
              "9132     0.037383  0.485744  0.233281  ...   0.190045  0.002761  0.002761\n",
              "14359    0.037383  0.485744  0.385561  ...   0.466817  0.205799  0.205799\n",
              "8875     0.056075  0.335093  0.223007  ...   0.233032  0.215015  0.215015\n",
              "\n",
              "[5 rows x 27 columns]"
            ]
          },
          "metadata": {},
          "execution_count": 10
        }
      ]
    },
    {
      "cell_type": "code",
      "metadata": {
        "colab": {
          "base_uri": "https://localhost:8080/"
        },
        "id": "BPaa4gBnUf0l",
        "outputId": "376dae28-5190-40e6-fe51-d50ab5ddae35"
      },
      "source": [
        "y_test.head()"
      ],
      "execution_count": 11,
      "outputs": [
        {
          "output_type": "execute_result",
          "data": {
            "text/plain": [
              "8980     0.028037\n",
              "2754     0.074766\n",
              "9132     0.037383\n",
              "14359    0.037383\n",
              "8875     0.056075\n",
              "Name: Appliances, dtype: float64"
            ]
          },
          "metadata": {},
          "execution_count": 11
        }
      ]
    },
    {
      "cell_type": "code",
      "metadata": {
        "id": "IaJVwHhXUjOf"
      },
      "source": [
        "linear_model=LinearRegression()"
      ],
      "execution_count": 12,
      "outputs": []
    },
    {
      "cell_type": "code",
      "metadata": {
        "colab": {
          "base_uri": "https://localhost:8080/"
        },
        "id": "6n7YFRJ1WK_G",
        "outputId": "ade2637d-a854-4cb3-e280-3b6c8a3eca2a"
      },
      "source": [
        "#fit the model to the training dataset\n",
        "linear_model.fit(x_train,y_train)"
      ],
      "execution_count": 13,
      "outputs": [
        {
          "output_type": "execute_result",
          "data": {
            "text/plain": [
              "LinearRegression(copy_X=True, fit_intercept=True, n_jobs=None, normalize=False)"
            ]
          },
          "metadata": {},
          "execution_count": 13
        }
      ]
    },
    {
      "cell_type": "code",
      "metadata": {
        "id": "v6rmBBKjWUS_"
      },
      "source": [
        "#obtain predictions\n",
        "predicted_values=linear_model.predict(x_test)"
      ],
      "execution_count": 14,
      "outputs": []
    },
    {
      "cell_type": "code",
      "metadata": {
        "colab": {
          "base_uri": "https://localhost:8080/"
        },
        "id": "pnUyd2WPWYnr",
        "outputId": "993be872-eb9e-4140-c37f-7ef52e78f9f4"
      },
      "source": [
        "#Mean Absolute Error\n",
        "mae=mean_absolute_error(y_test,predicted_values)\n",
        "round(mae,6)"
      ],
      "execution_count": 15,
      "outputs": [
        {
          "output_type": "execute_result",
          "data": {
            "text/plain": [
              "0.0"
            ]
          },
          "metadata": {},
          "execution_count": 15
        }
      ]
    },
    {
      "cell_type": "code",
      "metadata": {
        "colab": {
          "base_uri": "https://localhost:8080/"
        },
        "id": "uiYDmSPZWdgo",
        "outputId": "a277df3a-f698-4dcd-a2a9-4df19042bd11"
      },
      "source": [
        "#Residual Sum of Squares\n",
        "rss=np.sum(np.square(y_test - predicted_values))\n",
        "round(rss,6)"
      ],
      "execution_count": 16,
      "outputs": [
        {
          "output_type": "execute_result",
          "data": {
            "text/plain": [
              "0.0"
            ]
          },
          "metadata": {},
          "execution_count": 16
        }
      ]
    },
    {
      "cell_type": "code",
      "metadata": {
        "colab": {
          "base_uri": "https://localhost:8080/"
        },
        "id": "o_fkEg1nXG-V",
        "outputId": "8dfd624e-ecfe-40a2-dfd8-cc3fb99c89f5"
      },
      "source": [
        "#Root Mean Square Error\n",
        "rmse=np.sqrt(mean_squared_error(y_test,predicted_values))\n",
        "round(rmse,6)"
      ],
      "execution_count": 17,
      "outputs": [
        {
          "output_type": "execute_result",
          "data": {
            "text/plain": [
              "0.0"
            ]
          },
          "metadata": {},
          "execution_count": 17
        }
      ]
    },
    {
      "cell_type": "code",
      "metadata": {
        "colab": {
          "base_uri": "https://localhost:8080/"
        },
        "id": "CRvpBZOhXNv3",
        "outputId": "79ecddb3-6ae7-46cd-cc22-72dc13f325d2"
      },
      "source": [
        "#R-Squared\n",
        "from sklearn.metrics import r2_score\n",
        "r2_score=r2_score(y_test,predicted_values)\n",
        "round(r2_score,6)"
      ],
      "execution_count": 18,
      "outputs": [
        {
          "output_type": "execute_result",
          "data": {
            "text/plain": [
              "1.0"
            ]
          },
          "metadata": {},
          "execution_count": 18
        }
      ]
    },
    {
      "cell_type": "code",
      "metadata": {
        "colab": {
          "base_uri": "https://localhost:8080/"
        },
        "id": "fZFgK8lfXS-6",
        "outputId": "6ce02b54-78ee-4e82-dfb7-ad5fcb8830de"
      },
      "source": [
        "#Ridge Regression\n",
        "ridge_reg=Ridge(alpha=0.4)\n",
        "ridge_reg.fit(x_train,y_train)\n",
        "print(ridge_reg)"
      ],
      "execution_count": 19,
      "outputs": [
        {
          "output_type": "stream",
          "name": "stdout",
          "text": [
            "Ridge(alpha=0.4, copy_X=True, fit_intercept=True, max_iter=None,\n",
            "      normalize=False, random_state=None, solver='auto', tol=0.001)\n"
          ]
        }
      ]
    },
    {
      "cell_type": "code",
      "metadata": {
        "colab": {
          "base_uri": "https://localhost:8080/"
        },
        "id": "pKaLiLcKXaFn",
        "outputId": "8a5372d2-7853-474a-8412-3f509cbb0f2e"
      },
      "source": [
        "#Lasso Regression\n",
        "lasso_reg=Lasso(alpha=0.001)\n",
        "lasso_reg.fit(x_train,y_train)\n",
        "print(lasso_reg)"
      ],
      "execution_count": 20,
      "outputs": [
        {
          "output_type": "stream",
          "name": "stdout",
          "text": [
            "Lasso(alpha=0.001, copy_X=True, fit_intercept=True, max_iter=1000,\n",
            "      normalize=False, positive=False, precompute=False, random_state=None,\n",
            "      selection='cyclic', tol=0.0001, warm_start=False)\n"
          ]
        }
      ]
    },
    {
      "cell_type": "code",
      "metadata": {
        "id": "A7vOtdPxXeiy"
      },
      "source": [
        "#comparing the effects of regularisation\n",
        "def get_weights_df(model,feat, col_name):\n",
        "  #this function returns the weight of every feature\n",
        "  weights=pd.Series(model.coef_,feat.columns).sort_values()\n",
        "  weights_df=pd.DataFrame(weights).reset_index()\n",
        "  weights_df.columns=['Features',col_name]\n",
        "  weights_df[col_name].round(3)\n",
        "  return weights_df"
      ],
      "execution_count": 21,
      "outputs": []
    },
    {
      "cell_type": "code",
      "metadata": {
        "id": "4njcGhQ8Ye-H"
      },
      "source": [
        "linear_model_weights=get_weights_df(linear_model,x_train,'Linear_Model_Weight')\n",
        "ridge_weights_df=get_weights_df(ridge_reg,x_train,'Ridge_Weight')\n",
        "lasso_weights_df=get_weights_df(lasso_reg, x_train,'Lasso_weight')"
      ],
      "execution_count": 22,
      "outputs": []
    },
    {
      "cell_type": "code",
      "metadata": {
        "colab": {
          "base_uri": "https://localhost:8080/"
        },
        "id": "8w2YpRoxYjRK",
        "outputId": "ed569c8b-1da3-40b6-92f2-5147a46c6930"
      },
      "source": [
        "final_weights=pd.merge(linear_model_weights, ridge_weights_df,on='Features')\n",
        "final_weights=pd.merge(final_weights,lasso_weights_df,on='Features')\n",
        "print(round(final_weights,6))"
      ],
      "execution_count": 23,
      "outputs": [
        {
          "output_type": "stream",
          "name": "stdout",
          "text": [
            "       Features  Linear_Model_Weight  Ridge_Weight  Lasso_weight\n",
            "0          RH_2                 -0.0     -0.001493     -0.000000\n",
            "1     Windspeed                 -0.0      0.000110      0.000000\n",
            "2            T2                 -0.0     -0.000732      0.000000\n",
            "3          RH_4                 -0.0      0.000089      0.000000\n",
            "4          RH_3                 -0.0      0.000346      0.000000\n",
            "5          RH_6                 -0.0      0.000129     -0.000000\n",
            "6           rv2                 -0.0      0.000003     -0.000000\n",
            "7           rv1                 -0.0      0.000003     -0.000000\n",
            "8            T1                 -0.0     -0.000067      0.000000\n",
            "9    Visibility                 -0.0      0.000044      0.000000\n",
            "10           T5                 -0.0     -0.000072      0.000000\n",
            "11           T8                  0.0      0.000367      0.000000\n",
            "12           T7                  0.0      0.000037      0.000000\n",
            "13           T3                  0.0      0.001046      0.000000\n",
            "14         RH_5                  0.0      0.000059      0.000000\n",
            "15        T_out                  0.0     -0.000952      0.000000\n",
            "16           T9                  0.0     -0.000686      0.000000\n",
            "17         RH_8                  0.0     -0.000570     -0.000000\n",
            "18           T6                  0.0      0.000789      0.000000\n",
            "19  Press_mm_hg                  0.0      0.000024     -0.000000\n",
            "20    Tdewpoint                  0.0      0.000302      0.000000\n",
            "21         RH_1                  0.0      0.001887      0.000000\n",
            "22         RH_7                  0.0     -0.000167     -0.000000\n",
            "23           T4                  0.0      0.000099      0.000000\n",
            "24         RH_9                  0.0     -0.000150     -0.000000\n",
            "25       RH_out                  0.0     -0.000199     -0.000000\n",
            "26   Appliances                  1.0      0.996368      0.891991\n"
          ]
        }
      ]
    },
    {
      "cell_type": "code",
      "metadata": {
        "id": "Inm5EWLcYmKM"
      },
      "source": [
        ""
      ],
      "execution_count": 23,
      "outputs": []
    }
  ]
}